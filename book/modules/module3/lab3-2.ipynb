{
 "cells": [
  {
   "cell_type": "markdown",
   "id": "bc6f073d-3176-4aac-9e59-171eafb0733b",
   "metadata": {},
   "source": [
    "# Lab 3-1: Wilcoxan Rank Sum Test\n",
    "---"
   ]
  },
  {
   "cell_type": "code",
   "execution_count": 1,
   "id": "e053f7b5-85f6-48ba-9c2d-0c754c210cb2",
   "metadata": {},
   "outputs": [],
   "source": [
    "# import libraries we'll need\n",
    "import pandas as pd\n",
    "import numpy as np\n",
    "import scipy.stats as stats\n",
    "import matplotlib.pyplot as plt\n",
    "%matplotlib inline"
   ]
  },
  {
   "cell_type": "code",
   "execution_count": 2,
   "id": "ddc5986a-03e3-43a9-89bf-a278188319e5",
   "metadata": {},
   "outputs": [
    {
     "name": "stderr",
     "output_type": "stream",
     "text": [
      "/opt/conda/lib/python3.10/site-packages/openpyxl/worksheet/_read_only.py:79: UserWarning: Unknown extension is not supported and will be removed\n",
      "  for idx, row in parser.parse():\n"
     ]
    },
    {
     "data": {
      "text/html": [
       "<div>\n",
       "<style scoped>\n",
       "    .dataframe tbody tr th:only-of-type {\n",
       "        vertical-align: middle;\n",
       "    }\n",
       "\n",
       "    .dataframe tbody tr th {\n",
       "        vertical-align: top;\n",
       "    }\n",
       "\n",
       "    .dataframe thead th {\n",
       "        text-align: right;\n",
       "    }\n",
       "</style>\n",
       "<table border=\"1\" class=\"dataframe\">\n",
       "  <thead>\n",
       "    <tr style=\"text-align: right;\">\n",
       "      <th></th>\n",
       "      <th>date of peak</th>\n",
       "      <th>water year</th>\n",
       "      <th>peak value (cfs)</th>\n",
       "      <th>gage_ht (feet)</th>\n",
       "    </tr>\n",
       "  </thead>\n",
       "  <tbody>\n",
       "    <tr>\n",
       "      <th>0</th>\n",
       "      <td>1928-10-09</td>\n",
       "      <td>1929</td>\n",
       "      <td>18800</td>\n",
       "      <td>10.55</td>\n",
       "    </tr>\n",
       "    <tr>\n",
       "      <th>1</th>\n",
       "      <td>1930-02-05</td>\n",
       "      <td>1930</td>\n",
       "      <td>15800</td>\n",
       "      <td>10.44</td>\n",
       "    </tr>\n",
       "    <tr>\n",
       "      <th>2</th>\n",
       "      <td>1931-01-28</td>\n",
       "      <td>1931</td>\n",
       "      <td>35100</td>\n",
       "      <td>14.08</td>\n",
       "    </tr>\n",
       "  </tbody>\n",
       "</table>\n",
       "</div>"
      ],
      "text/plain": [
       "  date of peak  water year  peak value (cfs)  gage_ht (feet)\n",
       "0   1928-10-09        1929             18800           10.55\n",
       "1   1930-02-05        1930             15800           10.44\n",
       "2   1931-01-28        1931             35100           14.08"
      ]
     },
     "execution_count": 2,
     "metadata": {},
     "output_type": "execute_result"
    }
   ],
   "source": [
    "# Read the excel file\n",
    "skykomish_data_file = '../data/Skykomish_peak_flow_12134500_skykomish_river_near_gold_bar.xlsx'\n",
    "skykomish_data = pd.read_excel(skykomish_data_file)\n",
    "# Preview our data\n",
    "skykomish_data.head(3)"
   ]
  },
  {
   "cell_type": "code",
   "execution_count": 3,
   "id": "f85190f6-3bf6-4b69-858e-9858d670a87d",
   "metadata": {},
   "outputs": [],
   "source": [
    "# Divide the data into the early period (before 1975) and late period (after and including 1975).\n",
    "skykomish_before = skykomish_data[ skykomish_data['water year'] < 1975 ] \n",
    "skykomish_after = skykomish_data[ skykomish_data['water year'] >= 1975 ] "
   ]
  },
  {
   "cell_type": "code",
   "execution_count": 4,
   "id": "971f2d36-72d0-4bed-a511-a0956e8622ab",
   "metadata": {},
   "outputs": [],
   "source": [
    "# Set our alpha and confidence from our prior z-tests\n",
    "alpha = 0.05\n",
    "conf = 1 - alpha\n",
    "\n",
    "# Calculate z_alpha from a normal distribution (from our prior z-tests)\n",
    "z_alpha = stats.norm.ppf(conf)"
   ]
  },
  {
   "cell_type": "code",
   "execution_count": null,
   "id": "408848a7-bbd1-4088-88fe-eecea40695cb",
   "metadata": {},
   "outputs": [],
   "source": []
  },
  {
   "cell_type": "markdown",
   "id": "ffe1f9ee-7f9e-414d-aef2-30d388e979d7",
   "metadata": {},
   "source": [
    "---\n",
    "* Note that the scipy.stats library has Wilcoxan Rank Sum function, read the documentation for [scipy.stats.ranksums](https://docs.scipy.org/doc/scipy/reference/generated/scipy.stats.ranksums.html)\n",
    "* Test the significance of the change in the mean between the two sample periods using the two-sample Wilcoxan Rank Sum test. \n",
    "* Then answer: **How different is your conclusion from the one we just did (i.e. compare P for the two tests)?** Only consider the case where the null hypothesis is no change."
   ]
  },
  {
   "cell_type": "code",
   "execution_count": 5,
   "id": "2d3d1262-2bb1-44ee-b0ff-5ec92f1ff75c",
   "metadata": {},
   "outputs": [
    {
     "name": "stdout",
     "output_type": "stream",
     "text": [
      "Z from stats.ranksums: 2.8537\n",
      "P from stats.ranksums: 0.0043\n"
     ]
    }
   ],
   "source": [
    "z_wilcoxan, p_wilcoxan = stats.ranksums(skykomish_after['peak value (cfs)'], skykomish_before['peak value (cfs)'])\n",
    "\n",
    "print(\"Z from stats.ranksums: {}\".format(np.round(z_wilcoxan,4)))\n",
    "print(\"P from stats.ranksums: {}\".format(np.round(p_wilcoxan,4)))"
   ]
  },
  {
   "cell_type": "markdown",
   "id": "2a2521e1-61fd-43ca-87e8-6989c29fe46c",
   "metadata": {},
   "source": [
    "This returns z_wilcoxan, the test statistic z presuming this is a large enough sample that this is normally distributed, and p_wilcoxan, the **two-sided** p-value of the test.\n",
    "\n",
    "Note that we are doing a **one-sided** test, so how should we interpret the two-sided p-value?\n",
    "\n",
    "If we look up the z score corresponding to that p-value, what do we get?"
   ]
  },
  {
   "cell_type": "code",
   "execution_count": 6,
   "id": "dc05ef7a-de5e-4008-99cd-0bc7516dbef3",
   "metadata": {},
   "outputs": [
    {
     "name": "stdout",
     "output_type": "stream",
     "text": [
      "Z from looking up (1-P): 2.6259\n"
     ]
    }
   ],
   "source": [
    "print(\"Z from looking up (1-P): {}\".format(np.round(stats.norm.ppf(1-p_wilcoxan),4)))"
   ]
  },
  {
   "cell_type": "markdown",
   "id": "599543d2-0342-4f17-9b43-ec677f4c7ccf",
   "metadata": {},
   "source": [
    "Why is this different from the p value that the Wilcoxan test gave us? And how do I know which one to use?"
   ]
  },
  {
   "cell_type": "code",
   "execution_count": 7,
   "id": "cd3f7bd2-4064-4e80-9c18-e00d5eaa7340",
   "metadata": {},
   "outputs": [
    {
     "name": "stdout",
     "output_type": "stream",
     "text": [
      "One-sided P value: 0.0022\n",
      "Two-sided P value: 0.0043\n"
     ]
    }
   ],
   "source": [
    "one_sided_p = 1 - stats.norm.cdf(z_wilcoxan)\n",
    "print(\"One-sided P value: {}\".format(np.round(one_sided_p,4)))\n",
    "print(\"Two-sided P value: {}\".format(np.round(2*one_sided_p,4)))"
   ]
  },
  {
   "cell_type": "markdown",
   "id": "9f5e4a06-422b-4e41-8836-2a6953f67756",
   "metadata": {},
   "source": [
    "Based on the above, do you understand what the two outputs of the function are showing, and do you now understand which we should use in this case?  "
   ]
  },
  {
   "cell_type": "code",
   "execution_count": 8,
   "id": "08b62b8f-e5b9-4f8b-89c1-999e1390bd35",
   "metadata": {},
   "outputs": [
    {
     "data": {
      "image/png": "[encoded data removed]",
      "text/plain": [
       "<Figure size 1000x600 with 1 Axes>"
      ]
     },
     "metadata": {},
     "output_type": "display_data"
    }
   ],
   "source": [
    "# Make a plot\n",
    "plt.figure(figsize=(10,6))\n",
    "\n",
    "# Create values for z\n",
    "z = np.linspace(-4, 4, num=160)\n",
    "\n",
    "# Plot the Null PDF\n",
    "plt.plot(z, stats.norm.pdf(z), label='Null PDF: ($\\overline{x}$ - $\\overline{y}$)')\n",
    "\n",
    "# Plot where z_alpha is\n",
    "plt.axvline(z_alpha, color='black', label=r'z$_\\alpha$')\n",
    "# Add label here with alpha value\n",
    "plt.text(z_alpha+0.05, 0.2, r'$z_{\\alpha}$ = ' + str(round(z_alpha,2)),fontsize=12, color='k')\n",
    "\n",
    "# Plot where z_test (from the Wilcoxan test)\n",
    "plt.axvline(z_wilcoxan, color='red', label=r'z$_{Wilcoxan}$')\n",
    "# Add label here with alpha value\n",
    "plt.text(z_wilcoxan+0.05, 0.15, r'$z_{W}$ = ' + str(round(z_wilcoxan,2)),fontsize=12, color='r')\n",
    "\n",
    "# Add title, legend, and labels\n",
    "plt.title('Wilcoxan Rank Sum Test',fontsize=20)\n",
    "plt.xlabel('Z', fontsize=15)\n",
    "plt.ylabel('Probability',fontsize=15)\n",
    "plt.ylim(0, 0.5)\n",
    "plt.legend(loc='upper left',fontsize=12);"
   ]
  },
  {
   "cell_type": "code",
   "execution_count": null,
   "id": "5ab2b327-9806-4f83-baab-b65eed2437cb",
   "metadata": {},
   "outputs": [],
   "source": []
  },
  {
   "cell_type": "code",
   "execution_count": null,
   "id": "de90bc06-d1e8-4465-b1a9-a7894b8dc856",
   "metadata": {},
   "outputs": [],
   "source": []
  }
 ],
 "metadata": {
  "kernelspec": {
   "display_name": "Python 3 (ipykernel)",
   "language": "python",
   "name": "python3"
  },
  "language_info": {
   "codemirror_mode": {
    "name": "ipython",
    "version": 3
   },
   "file_extension": ".py",
   "mimetype": "text/x-python",
   "name": "python",
   "nbconvert_exporter": "python",
   "pygments_lexer": "ipython3",
   "version": "3.10.10"
  }
 },
 "nbformat": 4,
 "nbformat_minor": 5
}
