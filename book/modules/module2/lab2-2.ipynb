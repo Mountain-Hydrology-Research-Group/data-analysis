{
 "cells": [
  {
   "cell_type": "markdown",
   "metadata": {},
   "source": [
    "# Lab 2-2: Type II Error and Power\n",
    "---\n",
    "\n",
    "**What is the Type II error and Power for your test on the mean from Lab 2-1?**\n",
    "\n",
    "In this case, we will assume that true mean has increased by 30% (true mean is 1.3 times the early mean), and that the pooled standard deviation has increased by 10% (true pooled standard deviation is 1.1 times $\\sigma'$, where $\\sigma'$ is our test estimate of pooled estimator for the two observed data sets)."
   ]
  },
  {
   "cell_type": "code",
   "execution_count": 1,
   "metadata": {},
   "outputs": [],
   "source": [
    "# import libraries we'll need\n",
    "import pandas as pd\n",
    "import numpy as np\n",
    "import scipy.stats as stats\n",
    "import matplotlib.pyplot as plt\n",
    "%matplotlib inline"
   ]
  },
  {
   "cell_type": "code",
   "execution_count": 2,
   "metadata": {},
   "outputs": [
    {
     "name": "stderr",
     "output_type": "stream",
     "text": [
      "/opt/conda/lib/python3.8/site-packages/openpyxl/worksheet/_reader.py:312: UserWarning: Unknown extension is not supported and will be removed\n",
      "  warn(msg)\n"
     ]
    },
    {
     "data": {
      "text/html": [
       "<div>\n",
       "<style scoped>\n",
       "    .dataframe tbody tr th:only-of-type {\n",
       "        vertical-align: middle;\n",
       "    }\n",
       "\n",
       "    .dataframe tbody tr th {\n",
       "        vertical-align: top;\n",
       "    }\n",
       "\n",
       "    .dataframe thead th {\n",
       "        text-align: right;\n",
       "    }\n",
       "</style>\n",
       "<table border=\"1\" class=\"dataframe\">\n",
       "  <thead>\n",
       "    <tr style=\"text-align: right;\">\n",
       "      <th></th>\n",
       "      <th>date of peak</th>\n",
       "      <th>water year</th>\n",
       "      <th>peak value (cfs)</th>\n",
       "      <th>gage_ht (feet)</th>\n",
       "    </tr>\n",
       "  </thead>\n",
       "  <tbody>\n",
       "    <tr>\n",
       "      <th>0</th>\n",
       "      <td>1928-10-09</td>\n",
       "      <td>1929</td>\n",
       "      <td>18800</td>\n",
       "      <td>10.55</td>\n",
       "    </tr>\n",
       "    <tr>\n",
       "      <th>1</th>\n",
       "      <td>1930-02-05</td>\n",
       "      <td>1930</td>\n",
       "      <td>15800</td>\n",
       "      <td>10.44</td>\n",
       "    </tr>\n",
       "    <tr>\n",
       "      <th>2</th>\n",
       "      <td>1931-01-28</td>\n",
       "      <td>1931</td>\n",
       "      <td>35100</td>\n",
       "      <td>14.08</td>\n",
       "    </tr>\n",
       "  </tbody>\n",
       "</table>\n",
       "</div>"
      ],
      "text/plain": [
       "  date of peak  water year  peak value (cfs)  gage_ht (feet)\n",
       "0   1928-10-09        1929             18800           10.55\n",
       "1   1930-02-05        1930             15800           10.44\n",
       "2   1931-01-28        1931             35100           14.08"
      ]
     },
     "execution_count": 2,
     "metadata": {},
     "output_type": "execute_result"
    }
   ],
   "source": [
    "# Read the excel file\n",
    "skykomish_data_file = '../data/Skykomish_peak_flow_12134500_skykomish_river_near_gold_bar.xlsx'\n",
    "skykomish_data = pd.read_excel(skykomish_data_file)\n",
    "# Preview our data\n",
    "skykomish_data.head(3)"
   ]
  },
  {
   "cell_type": "code",
   "execution_count": 3,
   "metadata": {},
   "outputs": [],
   "source": [
    "# Divide the data into the early period (before 1975) and late period (after and including 1975).\n",
    "skykomish_before = skykomish_data[ skykomish_data['water year'] < 1975 ] \n",
    "skykomish_after = skykomish_data[ skykomish_data['water year'] >= 1975 ] "
   ]
  },
  {
   "cell_type": "markdown",
   "metadata": {},
   "source": [
    "---\n",
    "### Calculate Type II error and Power\n",
    "Recall from the class lectures that the Type II error, $\\beta$, is the probability that we would incorrectly conclude that a change in the probability distribution had NOT taken place, if in fact a change of a certain assumed magnitude had occurred (failure to reject a false null hypothesis). \n",
    "\n",
    "Type II error is a function of both $\\alpha$ (expressed in the equation below with $z_{\\alpha}$), and the posited true nature of the probability distribution we are hoping to detect (we get to decide how different the true probability distribution is from the null hypothesis, and then see how likely we would be to make a mistake).  \n",
    "\n",
    "\n",
    "${ \\beta = P\\big((\\overline{X}-\\overline{Y}) < \\Delta_0 + z_{\\alpha}\\sigma'\\big)}$\n",
    "\n",
    "where $\\sigma'$ is the pooled standard deviation from $\\overline{X}$ (the later period) and $\\overline{Y}$ (the earlier period):\n",
    "\n",
    "$\\sigma' = \\displaystyle\\sqrt{ \\displaystyle\\frac{s^2_X}{n_X} + \\displaystyle\\frac{s^2_Y}{n_Y} }$\n",
    "\n",
    "\n",
    "Power, $(1-\\beta)$, is the probability that we would correctly conclude that a change in the probability distribution had taken place, given a certain assumed magnitude change had occurred."
   ]
  },
  {
   "cell_type": "markdown",
   "metadata": {},
   "source": [
    "If we assume a true normal distribution with mean $(\\overline{X}-\\overline{Y}) = \\Delta^* = 0.3\\cdot\\overline{Y}$ \n",
    "\n",
    "and a true standard deviation $\\sigma^* = 1.1\\cdot\\sigma'$\n",
    "\n",
    "then we need to solve for the intersection of $ \\Delta^* + z_{eff}\\sigma^* = \\Delta_0 + z_{\\alpha}\\sigma'$"
   ]
  },
  {
   "cell_type": "code",
   "execution_count": 4,
   "metadata": {},
   "outputs": [
    {
     "name": "stdout",
     "output_type": "stream",
     "text": [
      "Type II error: 0.1874\n",
      "Power: 0.8126\n"
     ]
    }
   ],
   "source": [
    "# Get the length of our two datasets\n",
    "nX = len(skykomish_after)\n",
    "nY = len(skykomish_before)\n",
    "\n",
    "# Set our alpha and confidence\n",
    "alpha = 0.05\n",
    "conf = 1 - alpha\n",
    "\n",
    "# Calculate z_alpha from a normal distribution\n",
    "z_alpha = stats.norm.ppf(conf)\n",
    "\n",
    "# Get our means\n",
    "meanX = skykomish_after['peak value (cfs)'].mean()\n",
    "meanY = skykomish_before['peak value (cfs)'].mean()\n",
    "\n",
    "# Get our standard deviations\n",
    "sdX = skykomish_after['peak value (cfs)'].std(ddof=1)\n",
    "sdY = skykomish_before['peak value (cfs)'].std(ddof=1)\n",
    "\n",
    "# Calculate the pooled standard deivation\n",
    "sigma_prime = np.sqrt(sdX**2/nX + sdY**2/nY)\n",
    "\n",
    "# For our null hypothesis PDF\n",
    "delta_0 = 0\n",
    "\n",
    "# Set our expected change in the mean (30% of early period mean)\n",
    "delta_star = .3 * meanY\n",
    "\n",
    "# Set our expected change in the standard deviation (1.1 times the pooled standard deviation)\n",
    "sigma_star = 1.1 * sigma_prime\n",
    "\n",
    "# Rearranging the equation above to solve for the \"z effective\" value, the z value on our postulated \"true\" PDF\n",
    "z_eff = ((delta_0 + z_alpha*sigma_prime) - delta_star) / sigma_star\n",
    "\n",
    "# Look up the cdf value of the postulated true distribution at this point to get our beta vlaue\n",
    "beta = stats.norm.cdf(z_eff)\n",
    "print(\"Type II error: {}\".format(np.round(beta,4)))\n",
    "\n",
    "# Thus, our confidence that we are not commiting Type II error is\n",
    "power = 1 - beta\n",
    "print(\"Power: {}\".format(np.round(power,4)))"
   ]
  },
  {
   "cell_type": "markdown",
   "metadata": {},
   "source": [
    "Compute the two-sample z-test value:\n",
    "\n",
    "$ztest = \\displaystyle\\frac{(\\bar{X}-\\bar{Y})-\\Delta_0}{\\sigma'}$"
   ]
  },
  {
   "cell_type": "code",
   "execution_count": 5,
   "metadata": {},
   "outputs": [
    {
     "name": "stdout",
     "output_type": "stream",
     "text": [
      "z-test = 2.87\n",
      "p = 0.0021\n"
     ]
    }
   ],
   "source": [
    "z_test = ((meanX - meanY) - delta_0) / sigma_prime\n",
    "print(\"z-test = {}\".format(np.round(z_test,2)))\n",
    "\n",
    "p = 1 - stats.norm.cdf(z_test)\n",
    "print(\"p = {}\".format(np.round(p,4)))"
   ]
  },
  {
   "cell_type": "code",
   "execution_count": 6,
   "metadata": {},
   "outputs": [
    {
     "data": {
      "image/png": "[encoded data removed]",
      "text/plain": [
       "<Figure size 720x432 with 1 Axes>"
      ]
     },
     "metadata": {
      "needs_background": "light"
     },
     "output_type": "display_data"
    }
   ],
   "source": [
    "# Make a plot\n",
    "plt.figure(figsize=(10,6))\n",
    "\n",
    "# Create values for z\n",
    "z = np.linspace(-4, 4, num=160) * sigma_prime\n",
    "    \n",
    "# Plot the Null PDF\n",
    "plt.plot(z, stats.norm.pdf(z, delta_0, sigma_prime), label='Null PDF: ($\\overline{x}$ - $\\overline{y}$) = $\\Delta_0$ = 0')\n",
    "\n",
    "## Plot the postulated True PDF\n",
    "plt.plot(z, stats.norm.pdf(z, delta_star, sigma_star), color='red', label=r'\"True\" PDF: ($\\overline{x}$ - $\\overline{y}$) = $\\Delta^*$')\n",
    "\n",
    "# Plot where z_alpha is\n",
    "plt.axvline(z_alpha*sigma_prime, color='black', linestyle='--', label=r'Z$_\\alpha$')\n",
    "# Add labels here with z_alpha and z_eff values\n",
    "plt.text(z_alpha*sigma_prime+300, 4e-5, r'Z$_{eff}$ = ' + str(round(z_eff,2)),fontsize=12, color='r')\n",
    "plt.text(z_alpha*sigma_prime+300, 4.5e-5, r'Z$_{\\alpha}$ = ' + str(round(z_alpha,2)),fontsize=12, color='k')\n",
    "\n",
    "# Plot where z_test is\n",
    "#plt.axvline(z_test*sigma_prime, color='k', linestyle=':', label=r'z-test')\n",
    "# Add labels here with z_test\n",
    "#plt.text(z_test*sigma_prime+300, 1e-5, r'z-test = ' + str(round(z_test,2)),fontsize=12, color='k')\n",
    "\n",
    "# Shade in the Type I Error area\n",
    "shade = np.linspace(z_alpha*sigma_prime, np.max(z), 10)\n",
    "plt.fill_between(shade, stats.norm.pdf(shade, delta_0, sigma_prime) ,  color='red', alpha=0.5, label='Type I Error')\n",
    "# Add label here with alpha value\n",
    "plt.text(z_alpha*sigma_prime+200, 0.1e-5, r'$\\alpha$ = ' + str(round(alpha,2)),fontsize=12, color='w')\n",
    "\n",
    "# Shade in the Type II Error area\n",
    "shade = np.linspace(np.min(z),z_alpha*sigma_prime, 30)\n",
    "plt.fill_between(shade, stats.norm.pdf(shade, delta_star, sigma_star) ,  color='m', alpha=0.5, label='Type II Error')\n",
    "# Add label here with Beta value\n",
    "plt.text(z_alpha*sigma_prime-6000, 1e-5, r'$\\beta$ = ' + str(round(beta,2)),fontsize=12, color='w')\n",
    "\n",
    "# Add title, legend, and labels\n",
    "plt.title('Visualization of Type I & II Error',fontsize=20)\n",
    "plt.xlabel('($\\overline{x}$ - $\\overline{y}$) [cfs]', fontsize=15)\n",
    "plt.ylabel('Probability',fontsize=15)\n",
    "plt.ylim(0, 9e-5)\n",
    "plt.ticklabel_format(axis='both', style='sci', scilimits=(0,0))\n",
    "plt.legend(loc='upper left',fontsize=12);"
   ]
  },
  {
   "cell_type": "code",
   "execution_count": null,
   "metadata": {},
   "outputs": [],
   "source": []
  }
 ],
 "metadata": {
  "kernelspec": {
   "display_name": "Python 3 (ipykernel)",
   "language": "python",
   "name": "python3"
  },
  "language_info": {
   "codemirror_mode": {
    "name": "ipython",
    "version": 3
   },
   "file_extension": ".py",
   "mimetype": "text/x-python",
   "name": "python",
   "nbconvert_exporter": "python",
   "pygments_lexer": "ipython3",
   "version": "3.10.10"
  }
 },
 "nbformat": 4,
 "nbformat_minor": 4
}
