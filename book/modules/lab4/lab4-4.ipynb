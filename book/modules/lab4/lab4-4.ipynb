{
 "cells": [
  {
   "cell_type": "markdown",
   "metadata": {},
   "source": [
    "# Lab 4-4:  Mann-Kendall Trend Test\n",
    "\n",
    "---"
   ]
  },
  {
   "cell_type": "code",
   "execution_count": 1,
   "metadata": {},
   "outputs": [],
   "source": [
    "import numpy as np\n",
    "import pandas as pd\n",
    "import scipy.stats as st\n",
    "import matplotlib.pyplot as plt"
   ]
  },
  {
   "cell_type": "markdown",
   "metadata": {},
   "source": [
    "Load data."
   ]
  },
  {
   "cell_type": "code",
   "execution_count": 2,
   "metadata": {},
   "outputs": [],
   "source": [
    "snow_pillows = pd.read_csv('../data/pillows_example.csv')"
   ]
  },
  {
   "cell_type": "markdown",
   "metadata": {},
   "source": [
    "Plot the data"
   ]
  },
  {
   "cell_type": "code",
   "execution_count": 3,
   "metadata": {},
   "outputs": [
    {
     "data": {
      "image/png": "[encoded data removed]",
      "text/plain": [
       "<Figure size 432x288 with 1 Axes>"
      ]
     },
     "metadata": {
      "needs_background": "light"
     },
     "output_type": "display_data"
    }
   ],
   "source": [
    "f, ax = plt.subplots()\n",
    "snow_pillows.plot(x='years', y='BLC_max', linestyle='-', label='Blue Canyon SWE', ax=ax)\n",
    "snow_pillows.plot(x='years', y='SLI_max', linestyle='-', label='Slide Canyon SWE', ax=ax)\n",
    "plt.legend()\n",
    "ax.set_xlabel('Year')\n",
    "ax.set_ylabel('SWE (mm)');"
   ]
  },
  {
   "cell_type": "markdown",
   "metadata": {},
   "source": [
    "# Mann Kendall Test"
   ]
  },
  {
   "cell_type": "code",
   "execution_count": 4,
   "metadata": {},
   "outputs": [],
   "source": [
    "def mann_kendall(V, alpha=0.05):\n",
    "    '''Mann Kendall Test (adapted from original Matlab function)\n",
    "       Performs original Mann-Kendall test of the null hypothesis of trend absence in the vector V, against the alternative of trend.\n",
    "       The result of the test is returned in reject_null:\n",
    "       reject_null = True indicates a rejection of the null hypothesis at the alpha significance level. \n",
    "       reject_null = False indicates a failure to reject the null hypothesis at the alpha significance level.\n",
    "\n",
    "       INPUTS:\n",
    "       V = time series [vector]\n",
    "       alpha =  significance level of the test [scalar] (i.e. for 95% confidence, alpha=0.05)\n",
    "       OUTPUTS:\n",
    "       reject_null = True/False (True: reject the null hypothesis) (False: insufficient evidence to reject the null hypothesis)\n",
    "       p_value = p-value of the test\n",
    "       \n",
    "       From Original Matlab Help Documentation:\n",
    "       The significance level of a test is a threshold of probability a agreed to before the test is conducted. \n",
    "       A typical value of alpha is 0.05. If the p-value of a test is less than alpha,        \n",
    "       the test rejects the null hypothesis. If the p-value is greater than alpha, there is insufficient evidence \n",
    "       to reject the null hypothesis. \n",
    "       The p-value of a test is the probability, under the null hypothesis, of obtaining a value\n",
    "       of the test statistic as extreme or more extreme than the value computed from\n",
    "       the sample.\n",
    "       \n",
    "       References \n",
    "       Mann, H. B. (1945), Nonparametric tests against trend, Econometrica, 13, 245-259.\n",
    "       Kendall, M. G. (1975), Rank Correlation Methods, Griffin, London.\n",
    "       \n",
    "       Original written by Simone Fatichi - simonef@dicea.unifi.it\n",
    "       Copyright 2009\n",
    "       Date: 2009/10/03\n",
    "       modified: E.I. (1/12/2012)\n",
    "       modified and converted to python: Steven Pestana - spestana@uw.edu (10/17/2019)\n",
    "       '''\n",
    "\n",
    "    V = np.reshape(V, (len(V), 1))\n",
    "    alpha = alpha/2\n",
    "    n = len(V)\n",
    "    S = 0\n",
    "\n",
    "    for i in range(0, n-1):\n",
    "        for j in range(i+1, n):\n",
    "            if V[j]>V[i]:\n",
    "                S = S+1\n",
    "            if V[j]<V[i]:\n",
    "                S = S-1\n",
    "\n",
    "    VarS = (n*(n-1)*(2*n+5))/18\n",
    "    StdS = np.sqrt(VarS)\n",
    "    # Ties are not considered\n",
    "\n",
    "    # Kendall tau correction coefficient\n",
    "    Kendall_Tau = S/(n*(n-1)/2)\n",
    "    if S>=0:\n",
    "        if S==0:\n",
    "             Z = 0\n",
    "        else:\n",
    "            Z = ((S-1)/StdS)\n",
    "    else:\n",
    "        Z = (S+1)/StdS\n",
    "\n",
    "    Zalpha = st.norm.ppf(1-alpha,0,1)\n",
    "    p_value = 2*(1-st.norm.cdf(abs(Z), 0, 1)) #Two-tailed test p-value\n",
    "\n",
    "    reject_null = abs(Z) > Zalpha # reject null hypothesis only if abs(Z) > Zalpha\n",
    "    \n",
    "    return reject_null, p_value"
   ]
  },
  {
   "cell_type": "markdown",
   "metadata": {},
   "source": [
    "#### Run the Man Kendall tests:"
   ]
  },
  {
   "cell_type": "code",
   "execution_count": 5,
   "metadata": {},
   "outputs": [
    {
     "name": "stdout",
     "output_type": "stream",
     "text": [
      "Can we reject the null hypothesis for Slide Canyon?\n",
      "False\n",
      "\n",
      "Can we reject the null hypothesis for Blue Canyon?\n",
      "True\n",
      "\n"
     ]
    }
   ],
   "source": [
    "alpha = 0.05\n",
    "\n",
    "reject_null, p_value = mann_kendall(snow_pillows['SLI_max'].values, alpha)\n",
    "print('Can we reject the null hypothesis for Slide Canyon?\\n{}\\n'.format(reject_null))\n",
    "\n",
    "reject_null, p_value = mann_kendall(snow_pillows['BLC_max'].values, alpha)\n",
    "print('Can we reject the null hypothesis for Blue Canyon?\\n{}\\n'.format(reject_null))"
   ]
  },
  {
   "cell_type": "code",
   "execution_count": null,
   "metadata": {},
   "outputs": [],
   "source": []
  }
 ],
 "metadata": {
  "kernelspec": {
   "display_name": "Python 3",
   "language": "python",
   "name": "python3"
  },
  "language_info": {
   "codemirror_mode": {
    "name": "ipython",
    "version": 3
   },
   "file_extension": ".py",
   "mimetype": "text/x-python",
   "name": "python",
   "nbconvert_exporter": "python",
   "pygments_lexer": "ipython3",
   "version": "3.7.4"
  }
 },
 "nbformat": 4,
 "nbformat_minor": 4
}
