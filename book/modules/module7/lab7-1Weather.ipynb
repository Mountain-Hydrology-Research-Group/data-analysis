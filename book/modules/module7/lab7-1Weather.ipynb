{
 "cells": [
  {
   "cell_type": "markdown",
   "metadata": {},
   "source": [
    "# Lab 7-1: Markov Chains - Weather, as in class lecture\n",
    "(Steven Pestana, 2019. Derived from CEE599_MarkovChain_Lab.m, Jessica Lundquist, Oct 23, 2015)\n",
    "\n",
    "(see Markov Chain Weather Example in Lecture notes, except note that we now have an initial condition, which would be like just saying today's weather was dry) "
   ]
  },
  {
   "cell_type": "code",
   "execution_count": 1,
   "metadata": {},
   "outputs": [],
   "source": [
    "import numpy as np\n",
    "from scipy.linalg import eig\n",
    "import scipy.stats as stats\n",
    "from scipy import sparse\n",
    "import matplotlib.pyplot as plt\n",
    "\n",
    "%matplotlib inline"
   ]
  },
  {
   "cell_type": "markdown",
   "metadata": {},
   "source": [
    "****\n",
    "\n",
    "## Example - Dry vs Rain\n",
    "\n",
    "We are going to use a Markov Chain to look at the conditional probabilities of a dry day vs a wet day, at steps of 1 day.\n",
    "\n",
    "Let's define two states, in our model someone can either live in the city or the suburbs:\n",
    " - dry = 0\n",
    " - rain = 1"
   ]
  },
  {
   "cell_type": "markdown",
   "metadata": {},
   "source": [
    "Set up the Markov probability matrix, start with just an empty 2x2 array:"
   ]
  },
  {
   "cell_type": "code",
   "execution_count": 2,
   "metadata": {},
   "outputs": [
    {
     "data": {
      "text/plain": [
       "array([[0., 0.],\n",
       "       [0., 0.]])"
      ]
     },
     "execution_count": 2,
     "metadata": {},
     "output_type": "execute_result"
    }
   ],
   "source": [
    "Pmarkov = np.zeros([2,2]) # create an empty 2-by-2 numpy array\n",
    "Pmarkov"
   ]
  },
  {
   "cell_type": "markdown",
   "metadata": {},
   "source": [
    "Given toay is dry, we have 80% chance of being dry tomorrow and 20% chance of rain:"
   ]
  },
  {
   "cell_type": "code",
   "execution_count": 5,
   "metadata": {},
   "outputs": [],
   "source": [
    "# Assign our given values to the table:\n",
    "Pmarkov[0,0] = 0.8 # note that we use the array indices to describe probability of going from state 0 to state 0\n",
    "Pmarkov[0,1] = 0.2 # probability of going from state 0 to state 1"
   ]
  },
  {
   "cell_type": "markdown",
   "metadata": {},
   "source": [
    "Given today has rain, we have a 60% chance of dry tomorrow and a 40% chance of rain:  (not really Seattle in November)"
   ]
  },
  {
   "cell_type": "code",
   "execution_count": 6,
   "metadata": {},
   "outputs": [],
   "source": [
    "# Assign our given values to the table:\n",
    "Pmarkov[1,0] = 0.60 # probability of going from state 1 to state 0\n",
    "Pmarkov[1,1] = 0.40 # probability of going from state 1 to state 1"
   ]
  },
  {
   "cell_type": "markdown",
   "metadata": {},
   "source": [
    "View the complete matrix:"
   ]
  },
  {
   "cell_type": "code",
   "execution_count": 7,
   "metadata": {},
   "outputs": [
    {
     "name": "stdout",
     "output_type": "stream",
     "text": [
      "[[0.8 0.2]\n",
      " [0.6 0.4]]\n"
     ]
    }
   ],
   "source": [
    "print(Pmarkov)"
   ]
  },
  {
   "cell_type": "markdown",
   "metadata": {},
   "source": [
    "Before going into matrix notation, let's think this through. In the initial state, today is dry."
   ]
  },
  {
   "cell_type": "markdown",
   "metadata": {},
   "source": [
    "**Step 1st day** using algebra\n",
    "\n",
    "Take one step through the Markov chain. What is the probability of dry tomorrow, given dry today?\n",
    "\n",
    "$p_{dry,1}$ = 0.8 * 1 + 0.2 * 0"
   ]
  },
  {
   "cell_type": "code",
   "execution_count": 8,
   "metadata": {},
   "outputs": [
    {
     "name": "stdout",
     "output_type": "stream",
     "text": [
      "0.8\n"
     ]
    }
   ],
   "source": [
    "pdry0=1\n",
    "pwet0=0\n",
    "pdry1 = Pmarkov[0,0]*pdry0 + Pmarkov[1,0]*pwet0\n",
    "print(pdry1)"
   ]
  },
  {
   "cell_type": "markdown",
   "metadata": {},
   "source": [
    "And what is the chance that tomorrow is wet?\n",
    "\n",
    "$p_{wet,1}$ = 0.2 * 1 + 0.4 * 0"
   ]
  },
  {
   "cell_type": "code",
   "execution_count": 9,
   "metadata": {},
   "outputs": [
    {
     "name": "stdout",
     "output_type": "stream",
     "text": [
      "0.2\n"
     ]
    }
   ],
   "source": [
    "pwet1 = Pmarkov[0,1]*pdry0 + Pmarkov[1,1]*pwet0\n",
    "print(pwet1)"
   ]
  },
  {
   "cell_type": "markdown",
   "metadata": {},
   "source": [
    "Draw a picture on scratch paper of what you are doing in terms of matrix multiplication."
   ]
  },
  {
   "cell_type": "markdown",
   "metadata": {},
   "source": [
    "**Step 1st day** using matrix multiplication\n",
    "\n",
    "Now use matrix algebra using numpy to get the same answer and check your work."
   ]
  },
  {
   "cell_type": "code",
   "execution_count": 10,
   "metadata": {},
   "outputs": [
    {
     "name": "stdout",
     "output_type": "stream",
     "text": [
      "[0.8 0.2]\n"
     ]
    }
   ],
   "source": [
    "# initial state of populations for state 0 and state 1\n",
    "percent0 = np.array([pdry0, pwet0])\n",
    "\n",
    "# multiply initial states with Markov matrix\n",
    "percent1 = np.dot(percent0, Pmarkov)\n",
    "\n",
    "# check values of x1 here against what you got for pcity1 and pusuburb1\n",
    "print(percent1)"
   ]
  },
  {
   "cell_type": "markdown",
   "metadata": {},
   "source": [
    "**Step 2nd day**"
   ]
  },
  {
   "cell_type": "markdown",
   "metadata": {},
   "source": [
    "Now we can make this the current state and take a second step with the matrix (using both one step and matrix notation to check our work):"
   ]
  },
  {
   "cell_type": "code",
   "execution_count": 11,
   "metadata": {},
   "outputs": [
    {
     "name": "stdout",
     "output_type": "stream",
     "text": [
      "0.7600000000000001 0.24000000000000005\n",
      "0.7600000000000001 0.24000000000000005\n"
     ]
    }
   ],
   "source": [
    "# take a second step with the Markov matrix:\n",
    "pdry2 = Pmarkov[0,0]*pdry1 + Pmarkov[1,0]*pwet1\n",
    "pwet2=Pmarkov[0,1]*pdry1 + Pmarkov[1,1]*pwet1\n",
    "print(pdry2,pwet2)\n",
    "\n",
    "# take a second step with the Markov matrix (using np.dot)\n",
    "percent2 = np.dot(percent1,Pmarkov)\n",
    "print(percent2[0],percent2[1])\n"
   ]
  },
  {
   "cell_type": "markdown",
   "metadata": {},
   "source": [
    "Good, we got the same answer (within rounding error), let's just use matrix math for the rest of the lab."
   ]
  },
  {
   "cell_type": "markdown",
   "metadata": {},
   "source": [
    "**Step 3rd year**\n",
    "\n",
    "We can also make multiple steps by raising the Markov matrix to a power:"
   ]
  },
  {
   "cell_type": "code",
   "execution_count": 12,
   "metadata": {},
   "outputs": [
    {
     "name": "stdout",
     "output_type": "stream",
     "text": [
      "[0.752 0.248]\n",
      "[0.752 0.248]\n"
     ]
    }
   ],
   "source": [
    "# three steps all at once by taking our Pmarkov matrix to the 3rd power, then multipying by our original population percentage vector\n",
    "percent3 = np.dot(percent0, np.linalg.matrix_power(Pmarkov,3))\n",
    "print(percent3)\n",
    "\n",
    "# we can also take a 3rd step by just multiplying through from the 2nd year\n",
    "percent3_check = np.dot(percent2,Pmarkov)\n",
    "print(percent3_check)"
   ]
  },
  {
   "cell_type": "code",
   "execution_count": 13,
   "metadata": {},
   "outputs": [
    {
     "name": "stdout",
     "output_type": "stream",
     "text": [
      "[0.75000003 0.24999997]\n",
      "[0.75 0.25]\n"
     ]
    }
   ],
   "source": [
    "# 10 steps, then 100 steps:\n",
    "percent10 = np.dot(percent0, np.linalg.matrix_power(Pmarkov,10))\n",
    "percent100 = np.dot(percent0, np.linalg.matrix_power(Pmarkov,100))\n",
    "print(percent10)\n",
    "print(percent100)"
   ]
  },
  {
   "cell_type": "markdown",
   "metadata": {},
   "source": [
    "**Find the steady state probabilities** using the eigenvector function"
   ]
  },
  {
   "cell_type": "markdown",
   "metadata": {},
   "source": [
    "And now, use the eigenvector function in numpy to see if x100 is the same as the steady state matrix:\n",
    "\n",
    "Here, we are using the concept that for a square matrix A, the column vector v is an eigenvector of A is theere is a scalar multiple $\\lambda$, such that\n",
    "multipliplying it times v is the same as applying the matrix multiplication of A on v.\n",
    "\n",
    "$ \\lambda v = Av $\n",
    "\n",
    "This fits the steady state matrix definition of\n",
    "\n",
    "$ \\pi = \\pi P $\n",
    "\n",
    "for the case of $\\lambda$ = 1 and P = the transpose of A.\n"
   ]
  },
  {
   "cell_type": "code",
   "execution_count": 23,
   "metadata": {},
   "outputs": [
    {
     "name": "stdout",
     "output_type": "stream",
     "text": [
      "[[0.8 0.6]\n",
      " [0.2 0.4]]\n"
     ]
    }
   ],
   "source": [
    "# So, we solve the eigenvalue problem of the transpose of the markov matrix A.\n",
    "# See https://docs.scipy.org/doc/scipy/reference/generated/scipy.linalg.eig.html#scipy.linalg.eig \n",
    "# Here, W are the eigenvalues and V are the eigenvectors\n",
    "\n",
    "W, V = eig(Pmarkov.T)\n",
    "print(Pmarkov.T)"
   ]
  },
  {
   "cell_type": "code",
   "execution_count": 15,
   "metadata": {},
   "outputs": [
    {
     "data": {
      "text/plain": [
       "array([[ 0.9486833 , -0.70710678],\n",
       "       [ 0.31622777,  0.70710678]])"
      ]
     },
     "execution_count": 15,
     "metadata": {},
     "output_type": "execute_result"
    }
   ],
   "source": [
    "V"
   ]
  },
  {
   "cell_type": "markdown",
   "metadata": {},
   "source": [
    "Find the column of V associated with the eigenvalue of 1, but allow for some margin of round-off error\n",
    "\n",
    "(from the function documentation: the column ```V[:,i]``` is the eigenvector corresponding to the eigenvalue ```W[i]```)"
   ]
  },
  {
   "cell_type": "code",
   "execution_count": 16,
   "metadata": {},
   "outputs": [
    {
     "data": {
      "text/plain": [
       "array([1. +0.j, 0.2+0.j])"
      ]
     },
     "execution_count": 16,
     "metadata": {},
     "output_type": "execute_result"
    }
   ],
   "source": [
    "# First, we can inspect W by eye (since this is a small matrix)\n",
    "W"
   ]
  },
  {
   "cell_type": "markdown",
   "metadata": {},
   "source": [
    "We want the firt column (index 0)"
   ]
  },
  {
   "cell_type": "code",
   "execution_count": 17,
   "metadata": {},
   "outputs": [
    {
     "data": {
      "text/plain": [
       "array([0.9486833 , 0.31622777])"
      ]
     },
     "execution_count": 17,
     "metadata": {},
     "output_type": "execute_result"
    }
   ],
   "source": [
    "V[:,0]"
   ]
  },
  {
   "cell_type": "markdown",
   "metadata": {},
   "source": [
    "But these need to be normalized first"
   ]
  },
  {
   "cell_type": "code",
   "execution_count": 19,
   "metadata": {},
   "outputs": [
    {
     "data": {
      "text/plain": [
       "array([0.75, 0.25])"
      ]
     },
     "execution_count": 19,
     "metadata": {},
     "output_type": "execute_result"
    }
   ],
   "source": [
    "p = V[:,0] / np.sum(V[:,0])\n",
    "p"
   ]
  },
  {
   "cell_type": "markdown",
   "metadata": {},
   "source": [
    "Which matches what we expect from our prior calculations. Yay!\n",
    "\n",
    "We can write a function to find this for us:"
   ]
  },
  {
   "cell_type": "code",
   "execution_count": 21,
   "metadata": {},
   "outputs": [],
   "source": [
    "def eig_pi(X, err=1e-9):\n",
    "    '''Find the value of W closest to 1 (within some round-off error) and then look at the associated column of V.\n",
    "    Input: tuple of (W (eigenvalue matrix), V (eigenvectors)) that are output from scipy.linalg.eig()'''\n",
    "    [W, V] = X\n",
    "    # find the column where the eigenvalue, W, is within 1 +/- err\n",
    "    col1 = np.where((W>=1-err) & (W<=1+err))\n",
    "    # normalize the eigenvector, V, for that column, so that it sums to one\n",
    "    p = V[:,col1] / np.sum(V[:,col1]) \n",
    "    return p"
   ]
  },
  {
   "cell_type": "code",
   "execution_count": 22,
   "metadata": {},
   "outputs": [
    {
     "name": "stdout",
     "output_type": "stream",
     "text": [
      "Eigenvector Steady State Probabilities: [0.75 0.25]\n",
      "Markov Chain 100-step Probabilities: [0.75 0.25]\n"
     ]
    }
   ],
   "source": [
    "p = eig_pi(eig(Pmarkov.T))\n",
    "\n",
    "print('Eigenvector Steady State Probabilities: {}'.format(p.T[0][0]))\n",
    "\n",
    "# Yes, these are very close to the values we got for percent100\n",
    "print('Markov Chain 100-step Probabilities: {}'.format(percent100))"
   ]
  },
  {
   "cell_type": "markdown",
   "metadata": {},
   "source": [
    "***\n",
    "\n",
    "## Example - Create a Markov Matrix from data\n",
    "\n",
    "Now given a timeseries of four states, determine the Markov Matrix and use it to generate a timeseries"
   ]
  },
  {
   "cell_type": "code",
   "execution_count": 29,
   "metadata": {},
   "outputs": [
    {
     "name": "stdout",
     "output_type": "stream",
     "text": [
      "[1 3 3 3 4 1 4 1 2 1 2 1 1 2 4 3 2 4 4 4 1 2 4 1 2 1 2 1 2 2 1 2 2 2 4 3 1\n",
      " 1 4 1 1 2 4 1 3 3 3 3 2 1 2 1 3 2 2 4 2 2 4 3 1 4 4 3 2 2 4 2 4 3 2 3 4 1\n",
      " 2 4 1 1 3 3 4 1 2 3 2 4 1 1 4 1 1 3 3 1 2 2 2 1 2 4 1 3 4 3 3 2 2 4 1 2 2\n",
      " 4 1 2 1 4 1 1 2 3 2 4 1 4 3 4 3 1 2 2 2 4 3 2 2 3 3 1 2 1 2 4 1 4 3 3 4 3\n",
      " 4 2 4 3 3 3 3 2 3 2 4 1 4 1 4 3 3 4 3 3 3 4 3 3 3 2 1 2 4 1 4 1 3 3 2 1 2\n",
      " 1 2 2 4 3 4 2 4 1 3 2 4 3 4 3 4 3 4 3 3 3 4 1 3 2 4 3 3 3 3 1 1 4 4 1 3 2\n",
      " 2 4 3 3 4 4 2 1 2 3 3 4 1 1 2 1 4 2 4 4 1 2 4 3 1 2 4 4 3 2 4 1 4 1 2 3 4\n",
      " 1 1 2 2 1 2 2 4 3 3 3 4 1 2 1 2 4 3 4 1 4 1 4 2 4 1 3 2 2 2 4 1 2 1 4 1 3\n",
      " 2 2 4 1 2 4 1 2 1 3 3 1 2 2 4 3 3 3 2 4 3 2 4 1 2 2 2 4 1 1 4 1 3 1 2 3 3\n",
      " 3 3 1 2 4 1 2 2 1 2 4 1 1 3 2 4 4 3 3 3 3 3 4 1 4 3 4 2 1 4 2 2 3 2 4 1 4\n",
      " 1 4 3 1 3 4 3 4 1 2 2 1 1 4 1 3 2 2 4 3 4 4 3 2 2 4 1 2 2 1 3 2 4 1 4 3 3\n",
      " 3 2 1 2 3 2 4 1 3 3 2 2 1 2 4 1 1 4 3 4 4 4 4 1 2 3 3 2 2 1 4 3 3 3 3 3 4\n",
      " 1 3 2 4 3 2 3 1 1 2 4 2 2 4 3 4 1 4 1 3 4 3 3 3 2 2 4 1 2 1 2 1 1 3 1 2 2\n",
      " 4 2 1 4 1 2 1 2 4 4 2 1 2 4 1 4 3 2 4]\n"
     ]
    }
   ],
   "source": [
    "# first, read in data that I generated (sequence of states 1, 2, 3, and 4):\n",
    "data = np.genfromtxt('../data/markov_random4.txt',dtype=int)\n",
    "\n",
    "print(data)"
   ]
  },
  {
   "cell_type": "code",
   "execution_count": 37,
   "metadata": {},
   "outputs": [
    {
     "name": "stdout",
     "output_type": "stream",
     "text": [
      "  (1, 1)\t16.0\n",
      "  (1, 2)\t53.0\n",
      "  (1, 3)\t22.0\n",
      "  (1, 4)\t28.0\n",
      "  (2, 1)\t31.0\n",
      "  (2, 2)\t34.0\n",
      "  (2, 3)\t12.0\n",
      "  (2, 4)\t56.0\n",
      "  (3, 1)\t13.0\n",
      "  (3, 2)\t34.0\n",
      "  (3, 3)\t48.0\n",
      "  (3, 4)\t28.0\n",
      "  (4, 1)\t58.0\n",
      "  (4, 2)\t12.0\n",
      "  (4, 3)\t41.0\n",
      "  (4, 4)\t13.0\n",
      "[[ 0.  0.  0.  0.  0.]\n",
      " [ 0. 16. 53. 22. 28.]\n",
      " [ 0. 31. 34. 12. 56.]\n",
      " [ 0. 13. 34. 48. 28.]\n",
      " [ 0. 58. 12. 41. 13.]]\n"
     ]
    }
   ],
   "source": [
    "# This counts the transitions from each state to the next and marks that count\n",
    "testdata= (np.ones_like(data[:-1]), (data[:-1], data[1:]))\n",
    "#print(testdata)\n",
    "S = sparse.csr_matrix((np.ones_like(data[:-1]), (data[:-1], data[1:])), dtype=float)\n",
    "print(S)\n",
    "# This converts those counts to matrix form\n",
    "tm = S.todense()\n",
    "print(tm)"
   ]
  },
  {
   "cell_type": "markdown",
   "metadata": {},
   "source": [
    "**Take a look at the matrix above, what does this represent?**\n",
    "\n",
    "We had 16 counts when the series transitioned from 1 to 1, 53 counts when it transitioned from 1 to 2, etc.\n",
    "We want to transition these from counts to frequencies.\n",
    "To do this, we need to normalize the transition matrix to get probabilities"
   ]
  },
  {
   "cell_type": "code",
   "execution_count": 22,
   "metadata": {},
   "outputs": [
    {
     "name": "stdout",
     "output_type": "stream",
     "text": [
      "[[       nan        nan        nan        nan        nan]\n",
      " [0.         0.13445378 0.44537815 0.18487395 0.23529412]\n",
      " [0.         0.23308271 0.2556391  0.09022556 0.42105263]\n",
      " [0.         0.10569106 0.27642276 0.3902439  0.22764228]\n",
      " [0.         0.46774194 0.09677419 0.33064516 0.10483871]]\n"
     ]
    },
    {
     "name": "stderr",
     "output_type": "stream",
     "text": [
      "/opt/conda/lib/python3.7/site-packages/ipykernel_launcher.py:1: RuntimeWarning: invalid value encountered in true_divide\n",
      "  \"\"\"Entry point for launching an IPython kernel.\n"
     ]
    }
   ],
   "source": [
    "tm_norm = tm / tm.sum(axis=1)\n",
    "    \n",
    "print(tm_norm) # This is our normalized transition matrix."
   ]
  },
  {
   "cell_type": "code",
   "execution_count": 23,
   "metadata": {},
   "outputs": [],
   "source": [
    "# We take the above probabilities of transitions, and turn them into discrete CDF's.\n",
    "# These will allow us to map random numbers generated from a uniform distribution into \n",
    "# transitions that follow these probability rules.\n",
    "tm_cdf = np.cumsum(tm_norm,1)"
   ]
  },
  {
   "cell_type": "markdown",
   "metadata": {},
   "source": [
    "Now, we want a \"random walk\" for 2000 years that follows these transition probabilities."
   ]
  },
  {
   "cell_type": "code",
   "execution_count": 24,
   "metadata": {},
   "outputs": [],
   "source": [
    "n_years = 2000\n",
    "q = np.random.uniform(0,1,n_years); # uniformly distributed random numbers n_years long\n",
    "\n",
    "initialstate = 2; # give it an initial state, doesn't really matter which\n",
    "\n",
    "Nrand = np.zeros_like(q) # initialize an array of the proper size, with the initial state\n",
    "Nrand[0] = initialstate;\n",
    "\n",
    "# Now, just like we did when we created monte carlo simulations from empirical CDFs,\n",
    "# we use our uniform random numbers to look up the next state in the transition matrix\n",
    "for i in range(1,n_years):\n",
    "    if q[i] <= tm_cdf[int(Nrand[i-1]),1]: #probability of transitioning from state i to 1\n",
    "        Nrand[i] = 1;\n",
    "    elif q[i] <= tm_cdf[int(Nrand[i-1]),2]: #transition from state i to 2\n",
    "        Nrand[i] = 2;\n",
    "    elif q[i] <= tm_cdf[int(Nrand[i-1]),3]: #transition from state i to 3\n",
    "        Nrand[i] = 3;\n",
    "    else:\n",
    "        Nrand[i] = 4;"
   ]
  },
  {
   "cell_type": "code",
   "execution_count": 25,
   "metadata": {},
   "outputs": [
    {
     "name": "stdout",
     "output_type": "stream",
     "text": [
      "Frequency of four 3s in a row = 1.3%\n"
     ]
    }
   ],
   "source": [
    "# And how many times did state 3 appear 4 times?\n",
    "Test3 = [Nrand[0:-3], Nrand[1:-2], Nrand[2:-1], Nrand[3:]] # stack our data 4 times, shifting it to the right by 1 each time\n",
    "Test3 = np.stack(Test3, axis=1)\n",
    "\n",
    "G2 = np.where((np.max(Test3, axis=1) == 3) & (np.min(Test3, axis=1) == 3))\n",
    "# if both the maximum and the minimum are 3, then we have 4 threes in our sequence\n",
    "\n",
    "frequencyof4threes = G2[0].size / Test3.shape[0]\n",
    "\n",
    "print('Frequency of four 3s in a row = {}%'.format(100*np.round(frequencyof4threes,3)))"
   ]
  },
  {
   "cell_type": "code",
   "execution_count": null,
   "metadata": {},
   "outputs": [],
   "source": []
  }
 ],
 "metadata": {
  "kernelspec": {
   "display_name": "Python 3 (ipykernel)",
   "language": "python",
   "name": "python3"
  },
  "language_info": {
   "codemirror_mode": {
    "name": "ipython",
    "version": 3
   },
   "file_extension": ".py",
   "mimetype": "text/x-python",
   "name": "python",
   "nbconvert_exporter": "python",
   "pygments_lexer": "ipython3",
   "version": "3.10.13"
  }
 },
 "nbformat": 4,
 "nbformat_minor": 4
}
