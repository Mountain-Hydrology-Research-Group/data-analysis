{
 "cells": [
  {
   "cell_type": "markdown",
   "metadata": {},
   "source": [
    "# Lab 7-1: Markov Chains - Basic Examples\n",
    "(Steven Pestana, 2019. Derived from CEE599_MarkovChain_Lab.m, Jessica Lundquist, Oct 23, 2015)\n",
    "\n",
    "(see Markov Chain Weather Example in Lecture notes, except note that we now have an initial condition, which would be like just saying today's weather was dry) "
   ]
  },
  {
   "cell_type": "code",
   "execution_count": 1,
   "metadata": {},
   "outputs": [],
   "source": [
    "import numpy as np\n",
    "from scipy.linalg import eig\n",
    "import scipy.stats as stats\n",
    "from scipy import sparse\n",
    "import matplotlib.pyplot as plt\n",
    "\n",
    "%matplotlib inline"
   ]
  },
  {
   "cell_type": "markdown",
   "metadata": {},
   "source": [
    "****\n",
    "\n",
    "## City and Suburbs:\n",
    "\n",
    "We are going to use a Markov Chain to look at the conditional probabilities of people moving between the city and the suburbs outside the city, at steps of 1 year.\n",
    "\n",
    "Let's define two states, in our model someone can either live in the city or the suburbs:\n",
    " - city = 0\n",
    " - suburbs = 1"
   ]
  },
  {
   "cell_type": "markdown",
   "metadata": {},
   "source": [
    "Set up the Markov probability matrix, start with just an empty 2x2 array:"
   ]
  },
  {
   "cell_type": "code",
   "execution_count": 2,
   "metadata": {},
   "outputs": [
    {
     "data": {
      "text/plain": [
       "array([[0., 0.],\n",
       "       [0., 0.]])"
      ]
     },
     "execution_count": 2,
     "metadata": {},
     "output_type": "execute_result"
    }
   ],
   "source": [
    "Pmarkov = np.zeros([2,2]) # create an empty 2-by-2 numpy array\n",
    "Pmarkov"
   ]
  },
  {
   "cell_type": "markdown",
   "metadata": {},
   "source": [
    "Given someone lives in the city, they have 95% chance of staying and 5% chance of moving:"
   ]
  },
  {
   "cell_type": "code",
   "execution_count": 3,
   "metadata": {},
   "outputs": [],
   "source": [
    "# Assign our given values to the table:\n",
    "Pmarkov[0,0] = 0.95 # note that we use the array indices to describe probability of going from state 0 to state 0\n",
    "Pmarkov[0,1] = 0.05 # probability of going from state 0 to state 1"
   ]
  },
  {
   "cell_type": "markdown",
   "metadata": {},
   "source": [
    "Given someone lives in the suburbs, they have a 97% change of staying and a 3% chance of moving:"
   ]
  },
  {
   "cell_type": "code",
   "execution_count": 4,
   "metadata": {},
   "outputs": [],
   "source": [
    "# Assign our given values to the table:\n",
    "Pmarkov[1,0] = 0.03 # probability of going from state 1 to state 0\n",
    "Pmarkov[1,1] = 0.97 # probability of going from state 1 to state 1"
   ]
  },
  {
   "cell_type": "markdown",
   "metadata": {},
   "source": [
    "View the complete matrix:"
   ]
  },
  {
   "cell_type": "code",
   "execution_count": 5,
   "metadata": {},
   "outputs": [
    {
     "name": "stdout",
     "output_type": "stream",
     "text": [
      "[[0.95 0.05]\n",
      " [0.03 0.97]]\n"
     ]
    }
   ],
   "source": [
    "print(Pmarkov)"
   ]
  },
  {
   "cell_type": "markdown",
   "metadata": {},
   "source": [
    "Before going into matrix notation, let's think this through. In the initial state, 60% of people live in the city & 40% live in the suburb."
   ]
  },
  {
   "cell_type": "code",
   "execution_count": 6,
   "metadata": {},
   "outputs": [],
   "source": [
    "percent_city0 = 0.6\n",
    "percent_suburb0 = 0.4"
   ]
  },
  {
   "cell_type": "markdown",
   "metadata": {},
   "source": [
    "**Step 1st year** using alebra\n",
    "\n",
    "Take one step through the Markov chain. What fraction of people live in the city after one step?\n",
    "\n",
    "This can be defined as the fraction of people who live in the city and stay in the city + the fraction of people who lived in the suburbs but move into the city.\n",
    "\n",
    "$p_{city,1}$ = 0.95 * 0.6 + 0.03 * 0.4"
   ]
  },
  {
   "cell_type": "code",
   "execution_count": 7,
   "metadata": {},
   "outputs": [
    {
     "name": "stdout",
     "output_type": "stream",
     "text": [
      "0.582\n"
     ]
    }
   ],
   "source": [
    "pcity1 = Pmarkov[0,0]*percent_city0 + Pmarkov[1,0]*percent_suburb0\n",
    "print(pcity1)"
   ]
  },
  {
   "cell_type": "markdown",
   "metadata": {},
   "source": [
    "What fraction of people live in the suburbs?\n",
    "\n",
    "Similar to above, this is the fraction of people who lived in the city and moved to the suburbs plus the fraction of people who live in the suburbs and stay in the suburbs.\n",
    "\n",
    "$p_{suburb,1}$ = 0.05 * 0.6 + 0.97 * 0.4"
   ]
  },
  {
   "cell_type": "code",
   "execution_count": 8,
   "metadata": {},
   "outputs": [
    {
     "name": "stdout",
     "output_type": "stream",
     "text": [
      "0.41800000000000004\n"
     ]
    }
   ],
   "source": [
    "psuburb1 = Pmarkov[0,1]*percent_city0 + Pmarkov[1,1]*percent_suburb0\n",
    "print(psuburb1)"
   ]
  },
  {
   "cell_type": "markdown",
   "metadata": {},
   "source": [
    "Draw a picture on scratch paper of what you are doing in terms of matrix multiplication."
   ]
  },
  {
   "cell_type": "markdown",
   "metadata": {},
   "source": [
    "**Step 1st year** using matrix multiplication\n",
    "\n",
    "Now use matrix algebra using numpy to get the same answer and check your work."
   ]
  },
  {
   "cell_type": "code",
   "execution_count": 9,
   "metadata": {},
   "outputs": [
    {
     "name": "stdout",
     "output_type": "stream",
     "text": [
      "[0.582 0.418]\n"
     ]
    }
   ],
   "source": [
    "# initial state of populations for state 0 and state 1\n",
    "percent0 = np.array([percent_city0, percent_suburb0])\n",
    "\n",
    "# multiply initial states with Markov matrix\n",
    "percent1 = np.dot(percent0, Pmarkov)\n",
    "\n",
    "# check values of x1 here against what you got for pcity1 and pusuburb1\n",
    "print(percent1)"
   ]
  },
  {
   "cell_type": "markdown",
   "metadata": {},
   "source": [
    "**Step 2nd year**"
   ]
  },
  {
   "cell_type": "markdown",
   "metadata": {},
   "source": [
    "Now we can make this the current state and take a second step with the matrix (using both one step and matrix notation to check our work):"
   ]
  },
  {
   "cell_type": "code",
   "execution_count": 10,
   "metadata": {},
   "outputs": [
    {
     "name": "stdout",
     "output_type": "stream",
     "text": [
      "0.5654399999999999 0.43456000000000006\n",
      "0.5654399999999999 0.43455999999999995\n"
     ]
    }
   ],
   "source": [
    "# take a second step with the Markov matrix:\n",
    "pcity2 = Pmarkov[0,0]*pcity1 + Pmarkov[1,0]*psuburb1\n",
    "psuburb2=Pmarkov[0,1]*pcity1 + Pmarkov[1,1]*psuburb1\n",
    "print(pcity2,psuburb2)\n",
    "\n",
    "# take a second step with the Markov matrix (using np.dot)\n",
    "percent2 = np.dot(percent1,Pmarkov)\n",
    "print(percent2[0],percent2[1])\n"
   ]
  },
  {
   "cell_type": "markdown",
   "metadata": {},
   "source": [
    "Good, we got the same answer (within rounding error), let's just use matrix math for the rest of the lab."
   ]
  },
  {
   "cell_type": "markdown",
   "metadata": {},
   "source": [
    "**Step 3rd year**\n",
    "\n",
    "We can also make multiple steps by raising the Markov matrix to a power:"
   ]
  },
  {
   "cell_type": "code",
   "execution_count": 11,
   "metadata": {},
   "outputs": [
    {
     "name": "stdout",
     "output_type": "stream",
     "text": [
      "[0.5502048 0.4497952]\n",
      "[0.5502048 0.4497952]\n"
     ]
    }
   ],
   "source": [
    "# three steps all at once by taking our Pmarkov matrix to the 3rd power, then multipying by our original population percentage vector\n",
    "percent3 = np.dot(percent0, np.linalg.matrix_power(Pmarkov,3))\n",
    "print(percent3)\n",
    "\n",
    "# we can also take a 3rd step by just multiplying through from the 2nd year\n",
    "percent3_check = np.dot(percent2,Pmarkov)\n",
    "print(percent3_check)"
   ]
  },
  {
   "cell_type": "code",
   "execution_count": 12,
   "metadata": {},
   "outputs": [
    {
     "name": "stdout",
     "output_type": "stream",
     "text": [
      "[0.4727374 0.5272626]\n",
      "[0.37505382 0.62494618]\n"
     ]
    }
   ],
   "source": [
    "# 10 steps, then 100 steps:\n",
    "percent10 = np.dot(percent0, np.linalg.matrix_power(Pmarkov,10))\n",
    "percent100 = np.dot(percent0, np.linalg.matrix_power(Pmarkov,100))\n",
    "print(percent10)\n",
    "print(percent100)"
   ]
  },
  {
   "cell_type": "markdown",
   "metadata": {},
   "source": [
    "**Find the steady state probabilities** using the eigenvector function"
   ]
  },
  {
   "cell_type": "markdown",
   "metadata": {},
   "source": [
    "And now, use the eigenvector function in numpy to see if x100 is the same as the steady state matrix:"
   ]
  },
  {
   "cell_type": "code",
   "execution_count": 13,
   "metadata": {},
   "outputs": [],
   "source": [
    "W, V = eig(Pmarkov.T)"
   ]
  },
  {
   "cell_type": "code",
   "execution_count": 14,
   "metadata": {},
   "outputs": [
    {
     "data": {
      "text/plain": [
       "array([[-0.70710678, -0.51449576],\n",
       "       [ 0.70710678, -0.85749293]])"
      ]
     },
     "execution_count": 14,
     "metadata": {},
     "output_type": "execute_result"
    }
   ],
   "source": [
    "V"
   ]
  },
  {
   "cell_type": "markdown",
   "metadata": {},
   "source": [
    "Find the column of V associated with the eigenvalue of 1, but allow for some margin of round-off error\n",
    "\n",
    "(from the function documentation: the column ```V[:,i]``` is the eigenvector corresponding to the eigenvalue ```W[i]```)"
   ]
  },
  {
   "cell_type": "code",
   "execution_count": 15,
   "metadata": {},
   "outputs": [
    {
     "data": {
      "text/plain": [
       "array([0.92+0.j, 1.  +0.j])"
      ]
     },
     "execution_count": 15,
     "metadata": {},
     "output_type": "execute_result"
    }
   ],
   "source": [
    "# First, we can inspect W by eye (since this is a small matrix)\n",
    "W"
   ]
  },
  {
   "cell_type": "markdown",
   "metadata": {},
   "source": [
    "We want the second column (index 1)"
   ]
  },
  {
   "cell_type": "code",
   "execution_count": 16,
   "metadata": {},
   "outputs": [
    {
     "data": {
      "text/plain": [
       "array([-0.51449576, -0.85749293])"
      ]
     },
     "execution_count": 16,
     "metadata": {},
     "output_type": "execute_result"
    }
   ],
   "source": [
    "V[:,1]"
   ]
  },
  {
   "cell_type": "markdown",
   "metadata": {},
   "source": [
    "But these need to be normalized first"
   ]
  },
  {
   "cell_type": "code",
   "execution_count": 17,
   "metadata": {},
   "outputs": [
    {
     "data": {
      "text/plain": [
       "array([0.375, 0.625])"
      ]
     },
     "execution_count": 17,
     "metadata": {},
     "output_type": "execute_result"
    }
   ],
   "source": [
    "p = V[:,1] / np.sum(V[:,1])\n",
    "p"
   ]
  },
  {
   "cell_type": "markdown",
   "metadata": {},
   "source": [
    "We can write a function to find this for us:"
   ]
  },
  {
   "cell_type": "code",
   "execution_count": 18,
   "metadata": {},
   "outputs": [],
   "source": [
    "def eig_pi(X, err=1e-9):\n",
    "    '''Find the value of W closest to 1 (within some round-off error) and then look at the associated column of V.\n",
    "    Input: tuple of (W (eigenvalue matrix), V (eigenvectors)) that are output from scipy.linalg.eig()'''\n",
    "    [W, V] = X\n",
    "    # find the column where the eigenvalue, W, is within 1 +/- err\n",
    "    col1 = np.where((W>=1-err) & (W<=1+err))\n",
    "    # normalize the eigenvector, V, for that column, so that it sums to one\n",
    "    p = V[:,col1] / np.sum(V[:,col1]) \n",
    "    return p"
   ]
  },
  {
   "cell_type": "code",
   "execution_count": 19,
   "metadata": {},
   "outputs": [
    {
     "name": "stdout",
     "output_type": "stream",
     "text": [
      "Eigenvector Steady State Probabilities: [0.375 0.625]\n",
      "Markov Chain 100-step Probabilities: [0.37505382 0.62494618]\n"
     ]
    }
   ],
   "source": [
    "p = eig_pi(eig(Pmarkov.T))\n",
    "\n",
    "print('Eigenvector Steady State Probabilities: {}'.format(p.T[0][0]))\n",
    "\n",
    "# Yes, these are very close to the values we got for percent100\n",
    "print('Markov Chain 100-step Probabilities: {}'.format(percent100))"
   ]
  },
  {
   "cell_type": "markdown",
   "metadata": {},
   "source": [
    "***\n",
    "\n",
    "## Create a Markov Matrix from data\n",
    "\n",
    "Now given a timeseries of four states, determine the Markov Matrix and use it to generate a timeseries"
   ]
  },
  {
   "cell_type": "code",
   "execution_count": 20,
   "metadata": {},
   "outputs": [],
   "source": [
    "# first, read in data that I generated (sequence of states 1, 2, 3, and 4):\n",
    "data = np.genfromtxt('../data/markov_random4.txt',dtype=int)"
   ]
  },
  {
   "cell_type": "code",
   "execution_count": 22,
   "metadata": {},
   "outputs": [
    {
     "name": "stdout",
     "output_type": "stream",
     "text": [
      "[[ 0.  0.  0.  0.  0.]\n",
      " [ 0. 16. 53. 22. 28.]\n",
      " [ 0. 31. 34. 12. 56.]\n",
      " [ 0. 13. 34. 48. 28.]\n",
      " [ 0. 58. 12. 41. 13.]]\n"
     ]
    }
   ],
   "source": [
    "# This counts the transitions from each state to the next and marks that count\n",
    "S = sparse.csr_matrix((np.ones_like(data[:-1]), (data[:-1], data[1:])), dtype=float)\n",
    "\n",
    "# This converts those counts to matrix form\n",
    "tm = S.todense()\n",
    "print(tm)"
   ]
  },
  {
   "cell_type": "markdown",
   "metadata": {},
   "source": [
    "#### Take a look at the matrix above, what does this represent?\n",
    "We had 16 counts when the series transitioned from 1 to 1, 53 counts when it transitioned from 1 to 2, etc.\n",
    "We want to transition these from counts to frequencies.\n",
    "To do this, we need to normalize the transition matrix to get probabilities"
   ]
  },
  {
   "cell_type": "code",
   "execution_count": 22,
   "metadata": {},
   "outputs": [
    {
     "name": "stdout",
     "output_type": "stream",
     "text": [
      "[[       nan        nan        nan        nan        nan]\n",
      " [0.         0.13445378 0.44537815 0.18487395 0.23529412]\n",
      " [0.         0.23308271 0.2556391  0.09022556 0.42105263]\n",
      " [0.         0.10569106 0.27642276 0.3902439  0.22764228]\n",
      " [0.         0.46774194 0.09677419 0.33064516 0.10483871]]\n"
     ]
    },
    {
     "name": "stderr",
     "output_type": "stream",
     "text": [
      "/opt/conda/lib/python3.7/site-packages/ipykernel_launcher.py:1: RuntimeWarning: invalid value encountered in true_divide\n",
      "  \"\"\"Entry point for launching an IPython kernel.\n"
     ]
    }
   ],
   "source": [
    "tm_norm = tm / tm.sum(axis=1)\n",
    "    \n",
    "print(tm_norm) # This is our normalized transition matrix."
   ]
  },
  {
   "cell_type": "code",
   "execution_count": 23,
   "metadata": {},
   "outputs": [],
   "source": [
    "# We take the above probabilities of transitions, and turn them into discrete CDF's.\n",
    "# These will allow us to map random numbers generated from a uniform distribution into \n",
    "# transitions that follow these probability rules.\n",
    "tm_cdf = np.cumsum(tm_norm,1)"
   ]
  },
  {
   "cell_type": "markdown",
   "metadata": {},
   "source": [
    "Now, we want a \"random walk\" for 2000 years that follows these transition probabilities."
   ]
  },
  {
   "cell_type": "code",
   "execution_count": 24,
   "metadata": {},
   "outputs": [],
   "source": [
    "n_years = 2000\n",
    "q = np.random.uniform(0,1,n_years); # uniformly distributed random numbers n_years long\n",
    "\n",
    "initialstate = 2; # give it an initial state, doesn't really matter which\n",
    "\n",
    "Nrand = np.zeros_like(q) # initialize an array of the proper size, with the initial state\n",
    "Nrand[0] = initialstate;\n",
    "\n",
    "# Now, just like we did when we created monte carlo simulations from empirical CDFs,\n",
    "# we use our uniform random numbers to look up the next state in the transition matrix\n",
    "for i in range(1,n_years):\n",
    "    if q[i] <= tm_cdf[int(Nrand[i-1]),1]: #probability of transitioning from state i to 1\n",
    "        Nrand[i] = 1;\n",
    "    elif q[i] <= tm_cdf[int(Nrand[i-1]),2]: #transition from state i to 2\n",
    "        Nrand[i] = 2;\n",
    "    elif q[i] <= tm_cdf[int(Nrand[i-1]),3]: #transition from state i to 3\n",
    "        Nrand[i] = 3;\n",
    "    else:\n",
    "        Nrand[i] = 4;"
   ]
  },
  {
   "cell_type": "code",
   "execution_count": 25,
   "metadata": {},
   "outputs": [
    {
     "name": "stdout",
     "output_type": "stream",
     "text": [
      "Frequency of four 3s in a row = 1.3%\n"
     ]
    }
   ],
   "source": [
    "# And how many times did state 3 appear 4 times?\n",
    "Test3 = [Nrand[0:-3], Nrand[1:-2], Nrand[2:-1], Nrand[3:]] # stack our data 4 times, shifting it to the right by 1 each time\n",
    "Test3 = np.stack(Test3, axis=1)\n",
    "\n",
    "G2 = np.where((np.max(Test3, axis=1) == 3) & (np.min(Test3, axis=1) == 3))\n",
    "# if both the maximum and the minimum are 3, then we have 4 threes in our sequence\n",
    "\n",
    "frequencyof4threes = G2[0].size / Test3.shape[0]\n",
    "\n",
    "print('Frequency of four 3s in a row = {}%'.format(100*np.round(frequencyof4threes,3)))"
   ]
  },
  {
   "cell_type": "code",
   "execution_count": null,
   "metadata": {},
   "outputs": [],
   "source": []
  }
 ],
 "metadata": {
  "kernelspec": {
   "display_name": "Python 3",
   "language": "python",
   "name": "python3"
  },
  "language_info": {
   "codemirror_mode": {
    "name": "ipython",
    "version": 3
   },
   "file_extension": ".py",
   "mimetype": "text/x-python",
   "name": "python",
   "nbconvert_exporter": "python",
   "pygments_lexer": "ipython3",
   "version": "3.8.12"
  }
 },
 "nbformat": 4,
 "nbformat_minor": 4
}
