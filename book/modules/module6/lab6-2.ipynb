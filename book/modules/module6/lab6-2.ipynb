{
 "cells": [
  {
   "cell_type": "markdown",
   "id": "eb72a1ed-d931-4418-b906-7454fd7fc561",
   "metadata": {},
   "source": [
    "# Lab 6-2: Bayes' Theorem Example: River Pollution"
   ]
  },
  {
   "cell_type": "markdown",
   "id": "5756e762-1071-4aab-94c1-68c817ccde84",
   "metadata": {},
   "source": [
    "## Problem\n",
    "\n",
    "A community environmental justice coalition, dedicated to promoting the health of an urban river, its ecosystem, and the wellbeing of the people that live along it, conducts regular water quality sampling.\n",
    "\n",
    "One pollutant of concern, “Chemical X,” is known to be a byproduct produced by three companies (A, B, and C) located along the river. These companies are required by law to securely store hazardous waste byproducts containing X.\n",
    "\n",
    "* “Company A” has 30% of the total hazardous waste containing X, and stores it in above-ground barrels with a known containment failure probability of 0.3%.\n",
    "* “Company B” has 10% of the hazardous waste and stores it in underground tanks with a known failure probability of 0.7%.\n",
    "* “Company C” has 60% of the hazardous waste and buries it capped with impermeable layers, but this method has a known failure rate of 0.5%.\n",
    "\n",
    "Based on the above information, answer the following:\n",
    "\n",
    "1) The community coalition detected X in their latest water samples from the river, and they want to know based on the information above (and using Bayes' Theorem) what is the probability that the pollutant came from each company, given that they detected X.\n",
    "2) Which company is the likely source of the pollutant after X is detected on 3 separate occasions? \n",
    "2) Which company is the likely source of the pollutant after X is detected on 6 separate occasions?\n",
    "\n",
    "And to clarify some assumptions:\n",
    "* We can assume that our first prior probabilities are proportional to the amount of hazardous waste each company has stored. \n",
    "* For each subsequent occurance of X being detected, we will update our prior probabilities with the posterior probabilities from the previous occurance.\n",
    "* And we are assuming that only one company has hazardous waste leaking into the river across all occurances.\n"
   ]
  },
  {
   "cell_type": "code",
   "execution_count": null,
   "id": "8922ae90-b580-4786-8a19-af4f65419153",
   "metadata": {},
   "outputs": [],
   "source": []
  }
 ],
 "metadata": {
  "kernelspec": {
   "display_name": "Python 3 (ipykernel)",
   "language": "python",
   "name": "python3"
  },
  "language_info": {
   "codemirror_mode": {
    "name": "ipython",
    "version": 3
   },
   "file_extension": ".py",
   "mimetype": "text/x-python",
   "name": "python",
   "nbconvert_exporter": "python",
   "pygments_lexer": "ipython3",
   "version": "3.10.10"
  }
 },
 "nbformat": 4,
 "nbformat_minor": 5
}
