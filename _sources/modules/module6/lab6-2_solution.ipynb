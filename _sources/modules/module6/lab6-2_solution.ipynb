{
 "cells": [
  {
   "cell_type": "markdown",
   "id": "eb72a1ed-d931-4418-b906-7454fd7fc561",
   "metadata": {},
   "source": [
    "# Lab 6-2: Bayes' Theorem Example: River Pollution"
   ]
  },
  {
   "cell_type": "markdown",
   "id": "5756e762-1071-4aab-94c1-68c817ccde84",
   "metadata": {},
   "source": [
    "## Problem\n",
    "\n",
    "A community environmental justice coalition, dedicated to promoting the health of an urban river, its ecosystem, and the wellbeing of the people that live along it, conducts regular water quality sampling.\n",
    "\n",
    "One pollutant of concern, “Chemical X,” is known to be a byproduct produced by three companies (A, B, and C) located along the river. These companies are required by law to securely store hazardous waste byproducts containing X.\n",
    "\n",
    "* “Company A” has 30% of the total hazardous waste containing X, and stores it in above-ground barrels with a known containment failure probability of 0.3%.\n",
    "* “Company B” has 10% of the hazardous waste and stores it in underground tanks with a known failure probability of 0.7%.\n",
    "* “Company C” has 60% of the hazardous waste and buries it capped with impermeable layers, but this method has a known failure rate of 0.5%.\n",
    "\n",
    "Based on the above information, answer the following:\n",
    "\n",
    "1) The community coalition detected X in their latest water samples from the river, and they want to know based on the information above (and using Bayes' Theorem) what is the probability that the pollutant came from each company, given that they detected X.\n",
    "2) Which company is the likely source of the pollutant after X is detected on 3 separate occasions? \n",
    "2) Which company is the likely source of the pollutant after X is detected on 6 separate occasions?\n",
    "\n",
    "And to clarify some assumptions:\n",
    "* We can assume that our first prior probabilities are proportional to the amount of hazardous waste each company has stored. \n",
    "* For each subsequent occurance of X being detected, we will update our prior probabilities with the posterior probabilities from the previous occurance.\n",
    "* And we are assuming that only one company has hazardous waste leaking into the river across all occurances.\n"
   ]
  },
  {
   "cell_type": "markdown",
   "id": "31e2b7d6-1486-4966-aa17-032d15347b41",
   "metadata": {},
   "source": [
    "---\n",
    "\n",
    "## Solution\n",
    "\n",
    "First, write out the information we know in terms of probabilities:\n",
    "\n",
    "We are told to assume that the first prior probabilities are proportional to the amount of hazardous waste stored by each company, therefore:\n",
    "\n",
    "$P(A) = 0.3$\n",
    "\n",
    "$P(B) = 0.1$\n",
    "\n",
    "$P(C) = 0.6$\n",
    "\n",
    "We are also told that each company's method of storing hazardous waste has a known failure rate, therefore we can say that the probability of X leaking into the river given that it came from each company is equal to these known failure rates:\n",
    "\n",
    "$P(X|A) = 0.003$\n",
    "\n",
    "$P(X|B) = 0.007$\n",
    "\n",
    "$P(X|C) = 0.005$\n",
    "\n",
    "The final piece of information that we need, is the total probability that X will be polluting the river. This is the sum of the probabilities that hazardous waste is leaked by each company:\n",
    "\n",
    "$P(X) = P(X|A)P(A) + P(X|C)P(C) + P(X|C)P(C)$\n",
    "\n",
    "Now, we can solve the questions using Bayes' Theorem to determine the probability that X came from each company given that we detected X. When we have repeated observations of X in the river, we will update the prior probabilities each time from the result of the previous calculation.\n",
    "\n",
    "$P(A|X) = \\frac{P(X|A)P(A)}{P(X)}$\n",
    "\n",
    "$P(B|X) = \\frac{P(X|B)P(B)}{P(X)}$\n",
    "\n",
    "$P(C|X) = \\frac{P(X|C)P(C)}{P(X)}$\n",
    "\n",
    "---"
   ]
  },
  {
   "cell_type": "markdown",
   "id": "cec600e2-ccd8-4911-a963-e596e9d75f7c",
   "metadata": {},
   "source": [
    "Now we can do our computations to anwer each question."
   ]
  },
  {
   "cell_type": "code",
   "execution_count": 1,
   "id": "7ed27c84-0e03-416b-bfa6-af0d5af2e588",
   "metadata": {
    "tags": []
   },
   "outputs": [],
   "source": [
    "import numpy as np\n",
    "import matplotlib.pyplot as plt # We will use matplotlib to plot the results later"
   ]
  },
  {
   "cell_type": "markdown",
   "id": "2b053711-bd24-43e1-a8a5-9cfffc994acb",
   "metadata": {},
   "source": [
    "### 1) The community coalition detected X in their latest water samples from the river, and they want to know based on the information above (and using Bayes' Theorem) what is the probability that the pollutant came from each company, given that they detected X."
   ]
  },
  {
   "cell_type": "code",
   "execution_count": 2,
   "id": "449b6ebf-a21c-4422-bc25-d4eaad9754c6",
   "metadata": {
    "tags": []
   },
   "outputs": [
    {
     "name": "stdout",
     "output_type": "stream",
     "text": [
      "P(X) = 0.0046\n",
      "P(X|A)P(A) = 0.0009\n",
      "P(X|A)P(A) = 0.0007000000000000001\n",
      "P(X|C)P(C) = 0.003\n",
      "P(A|X) = 0.1956521739130435\n",
      "P(B|X) = 0.1521739130434783\n",
      "P(C|X) = 0.6521739130434783\n"
     ]
    }
   ],
   "source": [
    "# probability that anything comes from companies A, B, or C, is proportional to their percent of total hazardous waste storage\n",
    "P_A = 0.3\n",
    "P_B = 0.1\n",
    "P_C = 0.6\n",
    "\n",
    "# probability that hazardous waste containment fails and runs off into river\n",
    "P_X_A = 0.003\n",
    "P_X_B = 0.007\n",
    "P_X_C = 0.005\n",
    "\n",
    "# total probability of X\n",
    "P_X = (P_X_A * P_A) + (P_X_B * P_B) + (P_X_C * P_C)\n",
    "print(f'P(X) = {P_X}')\n",
    "\n",
    "# bayes theorem, what's the probability that contaminant we measure (X) came from each company's hazardous waste storage?\n",
    "print(f'P(X|A)P(A) = {(P_X_A * P_A)}')\n",
    "P_A_X = (P_X_A * P_A) / P_X\n",
    "\n",
    "print(f'P(X|A)P(A) = {(P_X_B * P_B)}')\n",
    "P_B_X = (P_X_B * P_B) / P_X\n",
    "\n",
    "print(f'P(X|C)P(C) = {(P_X_C * P_C)}')\n",
    "P_C_X = (P_X_C * P_C) / P_X\n",
    "\n",
    "print(f'P(A|X) = {P_A_X}')\n",
    "print(f'P(B|X) = {P_B_X}')\n",
    "print(f'P(C|X) = {P_C_X}')"
   ]
  },
  {
   "cell_type": "markdown",
   "id": "8ab2e2fe-2147-4e1a-80d2-ae0d8c6d6075",
   "metadata": {},
   "source": [
    "#### Answer:\n",
    "\n",
    "The probability that the pollutant detected came from Company A is 19.6%, from Company B is 15.2%, and from Company C is 65.2%\n",
    "\n",
    "\n",
    "Company C is the most likely source of the pollution, followed by Company A.\n",
    "\n",
    "---"
   ]
  },
  {
   "cell_type": "markdown",
   "id": "58f6a2fc-c35d-4aed-9110-3e90ff53bb1c",
   "metadata": {},
   "source": [
    "### 2) Which company is the likely source of the pollutant after X is detected on 3 separate occasions?\n",
    "\n",
    "To answer this question, I am going to write a function that computes Bayes' theorem for this example problem. By writing a function that does this, I can more easily re-run the same code to compute the results after X was detected multiple times. The inputs to this function will be the prior probabilities (represented by $P(A)$, $P(B)$, and $P(C)$) and the likelihoods of pollutant leaking into the river for each company ($P(X|A)$, $P(X|B)$, and $P(X|C)$). The function will then output the posterior probabilities that the pollution we detected came from each company's hazardous waste storage site ($P(A|X)$, $P(B|X)$, and $P(C|X)$)."
   ]
  },
  {
   "cell_type": "code",
   "execution_count": 3,
   "id": "37f45983-5b76-4c8a-aed0-e5c64e8ae259",
   "metadata": {
    "tags": []
   },
   "outputs": [],
   "source": [
    "def bayes_example(P_A, P_B, P_C, P_X_A, P_X_B, P_X_C):\n",
    "\n",
    "    # total probability of X\n",
    "    P_X = (P_X_A * P_A) + (P_X_B * P_B) + (P_X_C * P_C)\n",
    "\n",
    "    # bayes theorem, what's the probability that contaminant we measure (X) came from each company's hazardous waste storage?\n",
    "    P_A_X = (P_X_A * P_A) / P_X\n",
    "    P_B_X = (P_X_B * P_B) / P_X\n",
    "    P_C_X = (P_X_C * P_C) / P_X\n",
    "\n",
    "    return [P_A_X, P_B_X, P_C_X]"
   ]
  },
  {
   "cell_type": "code",
   "execution_count": 4,
   "id": "61fc4de4-b417-4d78-be5a-1a5345acab04",
   "metadata": {
    "tags": []
   },
   "outputs": [
    {
     "name": "stdout",
     "output_type": "stream",
     "text": [
      "First sample of X is detected in the river:\n",
      "P(A|X) = 0.1956521739130435\n",
      "P(B|X) = 0.1521739130434783\n",
      "P(C|X) = 0.6521739130434783\n"
     ]
    }
   ],
   "source": [
    "# First sample is detected (should give us the same result as in question 1 above)\n",
    "\n",
    "# probability that anything comes from companies A, B, or C, is proportional to their percent of total hazardous waste storage\n",
    "P_A = 0.3\n",
    "P_B = 0.1\n",
    "P_C = 0.6\n",
    "\n",
    "# probability that hazardous waste containment fails and runs off into river\n",
    "P_X_A = 0.003\n",
    "P_X_B = 0.007\n",
    "P_X_C = 0.005\n",
    "\n",
    "[P_A_X_1, P_B_X_1, P_C_X_1] = bayes_example(P_A, P_B, P_C, P_X_A, P_X_B, P_X_C)\n",
    "print('First sample of X is detected in the river:')\n",
    "print(f'P(A|X) = {P_A_X_1}')\n",
    "print(f'P(B|X) = {P_B_X_1}')\n",
    "print(f'P(C|X) = {P_C_X_1}')"
   ]
  },
  {
   "cell_type": "code",
   "execution_count": 5,
   "id": "78aaf5ef-cea2-45dd-912b-abf66a33bdcd",
   "metadata": {
    "tags": []
   },
   "outputs": [
    {
     "name": "stdout",
     "output_type": "stream",
     "text": [
      "Second sample of X is detected in the river:\n",
      "P(A|X) = 0.11946902654867256\n",
      "P(B|X) = 0.21681415929203543\n",
      "P(C|X) = 0.6637168141592921\n"
     ]
    }
   ],
   "source": [
    "# Second sample is detected. I have replace the prior probabilities with the posterior probabilities after the first detection.\n",
    "[P_A_X_2, P_B_X_2, P_C_X_2] = bayes_example(P_A_X_1, P_B_X_1, P_C_X_1, P_X_A, P_X_B, P_X_C)\n",
    "print('Second sample of X is detected in the river:')\n",
    "print(f'P(A|X) = {P_A_X_2}')\n",
    "print(f'P(B|X) = {P_B_X_2}')\n",
    "print(f'P(C|X) = {P_C_X_2}')"
   ]
  },
  {
   "cell_type": "code",
   "execution_count": 6,
   "id": "a98b2e1d-2e63-48c6-9c67-1ee649ca7bd6",
   "metadata": {
    "tags": []
   },
   "outputs": [
    {
     "name": "stdout",
     "output_type": "stream",
     "text": [
      "Third sample of X is detected in the river:\n",
      "P(A|X) = 0.06899488926746165\n",
      "P(B|X) = 0.2921635434412266\n",
      "P(C|X) = 0.6388415672913117\n"
     ]
    }
   ],
   "source": [
    "# Third sample is detected. I have replace the prior probabilities with the posterior probabilities after the second detection.\n",
    "[P_A_X_3, P_B_X_3, P_C_X_3] = bayes_example(P_A_X_2, P_B_X_2, P_C_X_2, P_X_A, P_X_B, P_X_C)\n",
    "print('Third sample of X is detected in the river:')\n",
    "print(f'P(A|X) = {P_A_X_3}')\n",
    "print(f'P(B|X) = {P_B_X_3}')\n",
    "print(f'P(C|X) = {P_C_X_3}')"
   ]
  },
  {
   "cell_type": "markdown",
   "id": "c695a97e-7927-46cf-bd10-8681c988f7ed",
   "metadata": {
    "tags": []
   },
   "source": [
    "#### Answer:\n",
    "\n",
    "After three samples of X are detected in the river, the probability that the pollution is coming from Company A is now 6.9%, from Company B is 29.2%, and from Company C is 63.9%.\n",
    "\n",
    "Company C is still the most likely source of the pollution, but now Company B is the second-most likely source instead of Company A.\n",
    "\n",
    "---"
   ]
  },
  {
   "cell_type": "markdown",
   "id": "29173784-7a14-4658-8ce8-e8f3982537f0",
   "metadata": {},
   "source": [
    "### 2) Which company is the likely source of the pollutant after X is detected on 6 separate occasions?\n",
    "\n",
    "To speed up answering this question, we can put the function that we wrote above into a for loop. We will then loop through six times to compute an update for each time a sample of X was detected in the river."
   ]
  },
  {
   "cell_type": "code",
   "execution_count": 7,
   "id": "273b465a-62a5-491f-a978-21c1b96d65c1",
   "metadata": {
    "tags": []
   },
   "outputs": [
    {
     "name": "stdout",
     "output_type": "stream",
     "text": [
      "[[0.3        0.1        0.6       ]\n",
      " [0.19565217 0.15217391 0.65217391]\n",
      " [0.11946903 0.21681416 0.66371681]\n",
      " [0.06899489 0.29216354 0.63884157]\n",
      " [0.03800438 0.37550829 0.58648733]\n",
      " [0.02009039 0.46318139 0.51672821]\n",
      " [0.01023944 0.5508273  0.43893326]]\n"
     ]
    }
   ],
   "source": [
    "# I am re-defining these here just to illusrate what we're doing\n",
    "# We start off with the original prior probabilities:\n",
    "P_A = 0.3\n",
    "P_B = 0.1\n",
    "P_C = 0.6\n",
    "\n",
    "# probability that hazardous waste containment fails and runs off into river\n",
    "P_X_A = 0.003\n",
    "P_X_B = 0.007\n",
    "P_X_C = 0.005\n",
    "\n",
    "# create an empty array of zeros, which we will fill up with answers in the for loop\n",
    "n = 6 # we have 6 times that we sampled X in the river\n",
    "posteriors = np.zeros((n+1,3)) # the empty array is going to have shape 7 x 3\n",
    "                               # 7 for the 6 samples plus 1 set of original prior probabilities\n",
    "                               # and 3 for the 3 companies A, B, and C\n",
    "\n",
    "# input the original prior probabilities\n",
    "posteriors[0,:] = [P_A, P_B, P_C]\n",
    "\n",
    "# now loop through 6 times, compute a new set of posterior probabilities, using the probabilities from the previous step as our priors\n",
    "for i in range(n):\n",
    "    posteriors[i+1,:] = bayes_example(posteriors[i,0], posteriors[i,1], posteriors[i,2], P_X_A, P_X_B, P_X_C)\n",
    "    \n",
    "# take a look at the results... \n",
    "# each row represents how many times X was detected in the river, \n",
    "# starting with 0 times in the top row and 6 times for the last row\n",
    "print(posteriors)"
   ]
  },
  {
   "cell_type": "markdown",
   "id": "d6bfbd5c-77a1-49b4-be1c-eae8396f0e9c",
   "metadata": {},
   "source": [
    "#### Answer:\n",
    "\n",
    "After X was detected in the river six times, the probability that the pollution is coming from Company A is now 1.0%, from Company B is 55.1%, and from Company C is 43.9%.\n",
    "\n",
    "After six separate detections of X in the river, it is now most likely that the pollution is coming from Company B! And Company C is now the second-most likely source.\n",
    "\n",
    "In other words, since we observed 6 separate events where X leaked into the river, it is most likely that the X pollution is coming from Company B, and therefore their underground tanks containing hazardous waste should be prioritized for inspection.\n",
    "\n",
    "---"
   ]
  },
  {
   "cell_type": "markdown",
   "id": "08d247a4-bbe9-464c-85c8-d884cb96f500",
   "metadata": {},
   "source": [
    "We can also plot the probabilities, and how they change with each update (each new detection of X in the river):"
   ]
  },
  {
   "cell_type": "code",
   "execution_count": 8,
   "id": "552766ce-bedc-4b32-837f-a77c9938caf3",
   "metadata": {
    "tags": []
   },
   "outputs": [
    {
     "data": {
      "image/png": "[encoded data removed]",
      "text/plain": [
       "<Figure size 400x400 with 1 Axes>"
      ]
     },
     "metadata": {},
     "output_type": "display_data"
    }
   ],
   "source": [
    "plt.figure(figsize=(4,4))\n",
    "\n",
    "# plot our posteriors, these are already formatted nicely so that matplotlib will plot one line for each company\n",
    "plt.plot(posteriors)\n",
    "\n",
    "# plot vertical lines at each point at which we checked which company was most likely polluting (after 1 detection of X, 3, and 6)\n",
    "plt.vlines([1,3,6],0,1, 'lightgrey', zorder=-1)\n",
    "\n",
    "# set up the labels for the legend\n",
    "plt.legend(['P(A|X)', 'P(B|X)', 'P(C|X)'],loc='upper left')\n",
    "\n",
    "# add axes labels and title\n",
    "plt.xlabel('Number of times X was detected in the river')\n",
    "plt.ylabel('Probability')\n",
    "plt.title('Probability of pollution coming from\\ncompanies A, B, or C given that X was\\ndetected a certain number of times');"
   ]
  },
  {
   "cell_type": "code",
   "execution_count": null,
   "id": "8922ae90-b580-4786-8a19-af4f65419153",
   "metadata": {},
   "outputs": [],
   "source": []
  }
 ],
 "metadata": {
  "kernelspec": {
   "display_name": "Python 3 (ipykernel)",
   "language": "python",
   "name": "python3"
  },
  "language_info": {
   "codemirror_mode": {
    "name": "ipython",
    "version": 3
   },
   "file_extension": ".py",
   "mimetype": "text/x-python",
   "name": "python",
   "nbconvert_exporter": "python",
   "pygments_lexer": "ipython3",
   "version": "3.10.13"
  }
 },
 "nbformat": 4,
 "nbformat_minor": 5
}
