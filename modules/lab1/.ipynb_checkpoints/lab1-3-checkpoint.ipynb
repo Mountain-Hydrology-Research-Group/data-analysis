{
 "cells": [
  {
   "cell_type": "markdown",
   "metadata": {},
   "source": [
    "# Lab 1.2"
   ]
  },
  {
   "cell_type": "markdown",
   "metadata": {},
   "source": [
    "## Section 1: Creating and Plotting Random Normal Data\n",
    "This section will introduce you to creating and plotting random normal data using the numpy and math modules. The random normal data set will have a mean of 100, standard deviation of 25, and sample size of 1000."
   ]
  },
  {
   "cell_type": "code",
   "execution_count": 1,
   "metadata": {},
   "outputs": [],
   "source": [
    "# First, import the libraries you will need\n",
    "import numpy as np\n",
    "import matplotlib.pyplot as plt\n",
    "\n",
    "#Also, add code to make sure your plots appear in your Jupyter notebook\n",
    "%matplotlib inline "
   ]
  },
  {
   "cell_type": "code",
   "execution_count": 2,
   "metadata": {},
   "outputs": [],
   "source": [
    "# Create variables for the mean, standard deviation, and sample size of the data \n",
    "# as well as a variable for the number of bins used to plot the data as a \n",
    "# histogram later.\n",
    "mean = 200\n",
    "sd = 200\n",
    "size = 1000\n",
    "nbins = 10\n",
    "\n",
    "# Create random data using the properties defined above and the np module.\n",
    "data_normal = np.random.normal(mean, sd, size)"
   ]
  },
  {
   "cell_type": "markdown",
   "metadata": {},
   "source": [
    "Now that the data has been created, plot the data as a histogram. Try changing the variables defined above, especially the number of bins and sample size, and seeing how the graph changes."
   ]
  },
  {
   "cell_type": "code",
   "execution_count": 3,
   "metadata": {},
   "outputs": [
    {
     "data": {
      "text/plain": [
       "Text(0, 0.5, 'Number of Occurences')"
      ]
     },
     "execution_count": 3,
     "metadata": {},
     "output_type": "execute_result"
    },
    {
     "data": {
      "image/png": "[encoded data removed]",
      "text/plain": [
       "<Figure size 432x288 with 1 Axes>"
      ]
     },
     "metadata": {
      "needs_background": "light"
     },
     "output_type": "display_data"
    }
   ],
   "source": [
    "plt.figure()\n",
    "plt.hist(data_normal, nbins, ec=\"black\")\n",
    "plt.title('(Fig. 1) Normal Distribution')\n",
    "plt.xlabel('Random Number')\n",
    "plt.ylabel('Number of Occurences')"
   ]
  },
  {
   "cell_type": "markdown",
   "metadata": {},
   "source": [
    "## Section 2: Creating Random Lognormal Data\n",
    "Next, generate and plot random lognormal data with the same mean, standard deviation, and sample size as above.  Refer back to Lecture 2 in class or to wikipedia's page on the lognormal distibution: https://en.wikipedia.org/wiki/Log-normal_distribution.  Note that the parameters $\\mu$ and $\\sigma$ in the lognormal distribution refer to the mean and the standard deviation of the variables natural logarithm, not of the original dataset.  If we use \"mean\" and \"sd\" to refer to what we would calculate for the original dataset, then we can calculate $\\mu$ and $\\sigma$ as follows:"
   ]
  },
  {
   "cell_type": "markdown",
   "metadata": {},
   "source": [
    "First, the mean of $ln(RandomData)$ is ${\\mu} = ln\\bigg(\\frac{mean^2}{\\sqrt{mean^2 + sd^2}}\\bigg)$\n",
    "and the standard deviation is ${\\sigma} = \\sqrt{ln\\bigg(\\frac{mean^2 + sd^2}{mean^2}\\bigg)}$."
   ]
  },
  {
   "cell_type": "code",
   "execution_count": 4,
   "metadata": {},
   "outputs": [],
   "source": [
    "mean = 100\n",
    "sd = 25\n",
    "size = 1000\n",
    "nbins = 20\n",
    "\n",
    "# Find the mean and standard deviation for ln(RandomData)\n",
    "mu = np.log(mean**2 / np.sqrt(mean**2 + sd**2))\n",
    "sigma = np.sqrt(np.log((mean**2 + sd**2) / (mean**2)))\n",
    "\n",
    "# Create random data \n",
    "data_lognormal = np.random.lognormal(mu, sigma, size)"
   ]
  },
  {
   "cell_type": "markdown",
   "metadata": {},
   "source": [
    "Now plot the data. Try changing the variables above to see how the graph changes."
   ]
  },
  {
   "cell_type": "code",
   "execution_count": 5,
   "metadata": {},
   "outputs": [
    {
     "data": {
      "text/plain": [
       "Text(0, 0.5, 'Number of Occurences')"
      ]
     },
     "execution_count": 5,
     "metadata": {},
     "output_type": "execute_result"
    },
    {
     "data": {
      "image/png": "[encoded data removed]",
      "text/plain": [
       "<Figure size 432x288 with 1 Axes>"
      ]
     },
     "metadata": {
      "needs_background": "light"
     },
     "output_type": "display_data"
    }
   ],
   "source": [
    "plt.figure()\n",
    "plt.hist(data_lognormal, nbins, ec=\"black\")\n",
    "plt.title('(Fig. 2) Lognormal Distribution')\n",
    "plt.xlabel('Random Number')\n",
    "plt.ylabel('Number of Occurences')"
   ]
  },
  {
   "cell_type": "markdown",
   "metadata": {},
   "source": [
    "## Section 3: Creating Random Uniform Data\n",
    "Next, generate random uniform data with the same mean, standard deviation, and sample size as above.  Consider Lecture 2 on the uniform distribution or see wikipedia:  https://en.wikipedia.org/wiki/Uniform_distribution_(continuous) "
   ]
  },
  {
   "cell_type": "markdown",
   "metadata": {},
   "source": [
    "First, for ${f(x)} = \\frac{1}{b-a}$, the mean is ${\\mu} = \\frac{b+a}{2}$\n",
    "and the standard deviation is ${\\sigma} = \\frac{b-a}{\\sqrt{12}}$.\n",
    "\n",
    "So, ${a} = \\mu-\\sigma\\sqrt{3}$ and ${b} = \\mu+\\sigma\\sqrt{3}$."
   ]
  },
  {
   "cell_type": "code",
   "execution_count": 6,
   "metadata": {},
   "outputs": [],
   "source": [
    "mean = 100\n",
    "sd = 50\n",
    "size = 1000\n",
    "nbins = 10\n",
    "\n",
    "# Find the bounds for uniform data\n",
    "a = mean - sd*np.sqrt(3)\n",
    "b = mean + sd*np.sqrt(3)\n",
    "\n",
    "# Create random data \n",
    "data_uniform = np.random.uniform(a, b, size)"
   ]
  },
  {
   "cell_type": "markdown",
   "metadata": {},
   "source": [
    "Now plot the data. Try changing the variables above to see how the graph changes."
   ]
  },
  {
   "cell_type": "code",
   "execution_count": 7,
   "metadata": {},
   "outputs": [
    {
     "data": {
      "text/plain": [
       "Text(0, 0.5, 'Number of Occurences')"
      ]
     },
     "execution_count": 7,
     "metadata": {},
     "output_type": "execute_result"
    },
    {
     "data": {
      "image/png": "[encoded data removed]",
      "text/plain": [
       "<Figure size 432x288 with 1 Axes>"
      ]
     },
     "metadata": {
      "needs_background": "light"
     },
     "output_type": "display_data"
    }
   ],
   "source": [
    "plt.figure(3)\n",
    "plt.hist(data_uniform, nbins, ec=\"black\")\n",
    "plt.title('(Fig. 3) Uniform Distribution')\n",
    "plt.xlabel('Random Number')\n",
    "plt.ylabel('Number of Occurences')"
   ]
  },
  {
   "cell_type": "markdown",
   "metadata": {},
   "source": [
    "---\n",
    "\n",
    "# Fun with fake data!\n",
    "\n",
    "One of the most reliable tests of any statistical method or technique is to try it out on data where you know the answer. This lets you see if the methodology gives you the result you expect. The best way to get data that truly understand is to make it up yourself.\n",
    "\n",
    "Try the following activity:\n",
    "- Create data with known distributions, all with the same **mean = 60**, and **standard deviation = 40**\n",
    "  - Generate **1000** random numbers with a normal distribution with `np.random.normal()`\n",
    "  - Generate **1000** random numbers with a log-normal distribution with `np.random.lognormal()`\n",
    "  - Generate **1000** random numbers with a uniform distribution with `np.random.uniform()` (You’ll need to think about what the interval should be for this uniform distribution.)\n",
    "- For each set of random numbers, make the following plots:\n",
    "  - histogram\n",
    "  - boxplot\n",
    "  - quantile plots\n",
    "  - PDFs\n",
    "- Compare the plots, and discuss how you can tell the distributions apart.\n",
    "\n",
    "Now repeat the above steps, but generate **100** random numbers for each set, then **25** numbers, then **10** numbers.\n",
    "- For each of these, can you tell the distributions apart? \n",
    "- What is the sample mean and standard deviation for each?\n",
    "- Discuss the difference between a sample population and the true population."
   ]
  },
  {
   "cell_type": "code",
   "execution_count": null,
   "metadata": {},
   "outputs": [],
   "source": []
  }
 ],
 "metadata": {
  "kernelspec": {
   "display_name": "Python 3",
   "language": "python",
   "name": "python3"
  },
  "language_info": {
   "codemirror_mode": {
    "name": "ipython",
    "version": 3
   },
   "file_extension": ".py",
   "mimetype": "text/x-python",
   "name": "python",
   "nbconvert_exporter": "python",
   "pygments_lexer": "ipython3",
   "version": "3.7.4"
  }
 },
 "nbformat": 4,
 "nbformat_minor": 4
}
