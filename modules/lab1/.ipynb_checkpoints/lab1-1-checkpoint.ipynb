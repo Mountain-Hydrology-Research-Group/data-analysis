{
 "cells": [
  {
   "cell_type": "markdown",
   "metadata": {},
   "source": [
    "# Lab 1-1"
   ]
  },
  {
   "cell_type": "markdown",
   "metadata": {},
   "source": [
    "## Section 1: Running Code in Jupyter Notebook\n",
    "This lab is an example of a Jupyter Notebook. The \"notebook\" file is a combinaiton of code, text, figures, and more. We are running these files within a JupyterHub (a cloud-based computing platform). [Read more about these here](https://mountain-hydrology-research-group.github.io/data-analysis/resources/b-learning-jupyter.html).\n",
    "\n",
    "You'll notice that each piece of code lives in what we call a \"cell\". Cells structure the notebook and allow you to run each cell individually. To run the code in a cell, press Shift+Enter or click the Run button (looks like a \"play\" button, rightward pointing triangle) button above. To run multiple cells at once, choose one of the options under the Run menu above. After running the code in a cell, its output will appear below it. \n",
    "\n",
    "**To practice, try changing and running the code in the cell below.**"
   ]
  },
  {
   "cell_type": "code",
   "execution_count": 3,
   "metadata": {},
   "outputs": [
    {
     "data": {
      "text/plain": [
       "12"
      ]
     },
     "execution_count": 3,
     "metadata": {},
     "output_type": "execute_result"
    }
   ],
   "source": [
    "# this is a comment in python\n",
    "# these lines are ignored\n",
    "\n",
    "# the code below is simple addition\n",
    "3 + 9"
   ]
  },
  {
   "cell_type": "markdown",
   "metadata": {},
   "source": [
    "To create new cells, click the + button in the upper left of the notebook, or using the keyboard shortcuts \"A\" (insert cell Above current cell), \"B\" (insert cell Below current cell). \n",
    "\n",
    "**Try inserting a cell below and practice running a line of code that will output the number 6.**"
   ]
  },
  {
   "cell_type": "markdown",
   "metadata": {},
   "source": [
    "Stop running code by pressing the Stop (square) button next to Run. This useful if the code is taking a long time to run, but you suspect it encountered a problem and need to stop it.\n",
    "\n",
    "Use the Help menu if you need help with your notebook. Remember to save your notebooks by clicking the save button in the upper left hand corner of the notebook, or going to \"File > Save Notebook\". Also, when you create a new notebook, remember to give it a unique name. You can right-click on the files in the file tree on the left to rename them."
   ]
  },
  {
   "cell_type": "markdown",
   "metadata": {},
   "source": [
    "To create a markdown cell like this (with text and formatting), use the dropdown menu on the top to switch a cell type between \"Code\" and \"Markdown\"\n",
    "\n",
    "For formatting markdown cells, [check out the documentation here](https://jupyter-notebook.readthedocs.io/en/stable/examples/Notebook/Working%20With%20Markdown%20Cells.html)."
   ]
  },
  {
   "cell_type": "markdown",
   "metadata": {},
   "source": [
    "---\n",
    "## Python Basics\n",
    "\n",
    "This section will introduce Python coding. For more information and tutorials, [see this section on the class website](https://mountain-hydrology-research-group.github.io/data-analysis/resources/a-learning-python.html).\n",
    "\n",
    "Take a look at *numpy-tutorial.ipynb* for an introduction to NumPy and N-dimensional arrays"
   ]
  },
  {
   "cell_type": "markdown",
   "metadata": {},
   "source": [
    "###  Modules and Imports\n",
    "First, we will import the modules for the code to use. These modules include built-in functions (they're also sometimes called \"packages\" or \"libraries\"). \n",
    "\n",
    "We will call these functions later by writing `module.function(arguments)`. This is telling the computer to use the *function* from the *module* with the given *arguments*, or inputs. \n",
    "\n",
    "In the example below, we `import numpy` and give it an \"alias\" or shorthand name by saying `as np`, this is like giving a nickname to the library."
   ]
  },
  {
   "cell_type": "code",
   "execution_count": 4,
   "metadata": {},
   "outputs": [],
   "source": [
    "# First, import the library that has the functions needed.\n",
    "import numpy as np"
   ]
  },
  {
   "cell_type": "code",
   "execution_count": 5,
   "metadata": {},
   "outputs": [
    {
     "data": {
      "text/plain": [
       "7.0"
      ]
     },
     "execution_count": 5,
     "metadata": {},
     "output_type": "execute_result"
    }
   ],
   "source": [
    "# Next, call a function from the library with given argument(s).\n",
    "# For this example, I used the square root function from the numpy library\n",
    "\n",
    "np.sqrt(49)"
   ]
  },
  {
   "cell_type": "markdown",
   "metadata": {},
   "source": [
    "For information on each module and function, including what they return or their arguments, look at the documentation at https://docs.python.org/3/. Use the search bar to find information about any module or function.\n",
    "\n",
    "Also, notice the comments in the code above. The comments begin with a # symbol which means that the line will not be recognized and run as code by the computer. Rather, they serve as communication about the piece of code to another person reading it. When commenting code, too much is better than not enough. Comments will help you debug code and troubleshoot issues more quickly and effectively."
   ]
  },
  {
   "cell_type": "markdown",
   "metadata": {},
   "source": [
    "### Variables and Data Types\n",
    "Next, we will define some variables. Variables store values and can be changed by code. They can be integers, floats (numbers that can have a decimal), or strings (character string, written in quotation marks). When naming variables, use clarity over cleverness. Name them logically so that you or another person can recognize their function in your code."
   ]
  },
  {
   "cell_type": "code",
   "execution_count": 4,
   "metadata": {},
   "outputs": [],
   "source": [
    "# int variable\n",
    "y = -38\n",
    "\n",
    "# float variables\n",
    "z = 9.\n",
    "k = -2.89\n",
    "\n",
    "# string variables\n",
    "year = \"2019\"\n",
    "lab_title = \"Lab 1.1\""
   ]
  },
  {
   "cell_type": "markdown",
   "metadata": {},
   "source": [
    "To display these variables, use the print() function."
   ]
  },
  {
   "cell_type": "code",
   "execution_count": 5,
   "metadata": {},
   "outputs": [
    {
     "name": "stdout",
     "output_type": "stream",
     "text": [
      "-38\n",
      "-31\n",
      "9.0\n",
      "-2.89\n",
      "Hello world\n"
     ]
    }
   ],
   "source": [
    "print(y)\n",
    "\n",
    "print(7+y)\n",
    "\n",
    "print(z)\n",
    "\n",
    "print(k)\n",
    "\n",
    "print(\"Hello world\")"
   ]
  },
  {
   "cell_type": "markdown",
   "metadata": {},
   "source": [
    "To see the data type of each variable, use the type() function.\n",
    "Here we use print() to print out the result of the type() function."
   ]
  },
  {
   "cell_type": "code",
   "execution_count": 6,
   "metadata": {},
   "outputs": [
    {
     "name": "stdout",
     "output_type": "stream",
     "text": [
      "<class 'int'>\n",
      "<class 'int'>\n",
      "<class 'float'>\n",
      "<class 'float'>\n",
      "<class 'str'>\n"
     ]
    }
   ],
   "source": [
    "print(type(y))\n",
    "\n",
    "print(type(7+y))\n",
    "\n",
    "print(type(z))\n",
    "\n",
    "print(type(k))\n",
    "\n",
    "print(type(\"Hello world\"))"
   ]
  },
  {
   "cell_type": "markdown",
   "metadata": {},
   "source": [
    "Python has a built-in data structure called a \"list\"."
   ]
  },
  {
   "cell_type": "code",
   "execution_count": 7,
   "metadata": {},
   "outputs": [
    {
     "name": "stdout",
     "output_type": "stream",
     "text": [
      "['river', 'lake', 'ocean']\n",
      "[2, 8, 9]\n"
     ]
    }
   ],
   "source": [
    "# Define lists\n",
    "list_of_words = [\"river\", \"lake\", \"ocean\"]\n",
    "list_of_numbers = [2, 8, 9]\n",
    "\n",
    "print(list_of_words)\n",
    "print(list_of_numbers)"
   ]
  },
  {
   "cell_type": "code",
   "execution_count": 8,
   "metadata": {},
   "outputs": [
    {
     "name": "stdout",
     "output_type": "stream",
     "text": [
      "river\n",
      "2\n"
     ]
    }
   ],
   "source": [
    "# To access a certain part of a list, use name_of_list[index].\n",
    "# The index starts at 0, so the first component of a list has index 0.\n",
    "print(list_of_words[0])\n",
    "print(list_of_numbers[0])"
   ]
  },
  {
   "cell_type": "code",
   "execution_count": 9,
   "metadata": {},
   "outputs": [
    {
     "name": "stdout",
     "output_type": "stream",
     "text": [
      "['river', 'lake', 'glacier']\n",
      "[2, 10, 9]\n"
     ]
    }
   ],
   "source": [
    "# Change one or more parts of a list using the index.\n",
    "list_of_words[2] = 'glacier'\n",
    "list_of_numbers[1] = 10\n",
    "\n",
    "print(list_of_words)\n",
    "print(list_of_numbers)"
   ]
  },
  {
   "cell_type": "markdown",
   "metadata": {},
   "source": [
    "### For Loops and If Statements\n",
    "For loops use an index to iterate through a section of code multiple times."
   ]
  },
  {
   "cell_type": "code",
   "execution_count": 10,
   "metadata": {},
   "outputs": [
    {
     "name": "stdout",
     "output_type": "stream",
     "text": [
      "river\n",
      "lake\n",
      "glacier\n"
     ]
    }
   ],
   "source": [
    "# You can use for loops to go through a list.\n",
    "# This for loop prints out every string in the array list_of_names\n",
    "for word in list_of_words:\n",
    "    print(word)\n"
   ]
  },
  {
   "cell_type": "code",
   "execution_count": 11,
   "metadata": {},
   "outputs": [
    {
     "name": "stdout",
     "output_type": "stream",
     "text": [
      "3\n",
      "4\n",
      "5\n",
      "6\n"
     ]
    }
   ],
   "source": [
    "# Use the range function for the loop index.\n",
    "# This for loop prints every number from 3 to 7.\n",
    "for i in range(3,7):\n",
    "    print(i)"
   ]
  },
  {
   "cell_type": "code",
   "execution_count": 12,
   "metadata": {},
   "outputs": [
    {
     "name": "stdout",
     "output_type": "stream",
     "text": [
      "At index 0, we have the word river\n",
      "At index 1, we have the word lake\n",
      "At index 2, we have the word glacier\n"
     ]
    }
   ],
   "source": [
    "# Use enumerate to go through a list to get the value and its index\n",
    "# the len() function. \n",
    "for i, word in enumerate(list_of_words):\n",
    "    print('At index {index_placeholder}, we have the word {word_placeholder}'.format(index_placeholder=i,word_placeholder=word))"
   ]
  },
  {
   "cell_type": "markdown",
   "metadata": {},
   "source": [
    "If statements will only go through the code if the logical expression is true."
   ]
  },
  {
   "cell_type": "code",
   "execution_count": 13,
   "metadata": {},
   "outputs": [
    {
     "name": "stdout",
     "output_type": "stream",
     "text": [
      "The square root of 9 is less than 6\n",
      "The square root of 16 is less than 6\n",
      "The square root of 25 is less than 6\n",
      "The square root of 36 is less than 6\n",
      "The quare root of 49 is greater than 6\n",
      "The quare root of 64 is greater than 6\n"
     ]
    }
   ],
   "source": [
    "# This for loop combined with the if/else statements will print every number in this list if its square root is greater than or equal to 6.\n",
    "\n",
    "square_nums = [3**2, 4**2, 5**2, 6**2, 7**2, 8**2] # python notation for raising x to the power of y is x**y\n",
    "\n",
    "for n in square_nums:\n",
    "    if np.sqrt(n) <= 6:\n",
    "        print(\"The square root of {} is less than 6\".format(n))\n",
    "    else:\n",
    "        print(\"The quare root of {} is greater than 6\".format(n))"
   ]
  },
  {
   "cell_type": "markdown",
   "metadata": {},
   "source": [
    "---\n",
    "## Plotting with matplotlib\n",
    "Matplotlib is the plotting and visualization package we'll use the most in this class. (However, if you have another favorite, you're free to use another plotting package. We'll cover graphics and data visualization in a later week.) Below are some important functions used to plot or manipulate plots."
   ]
  },
  {
   "cell_type": "code",
   "execution_count": 14,
   "metadata": {},
   "outputs": [],
   "source": [
    "# First, remember that we must import the module that has the functions needed.\n",
    "import matplotlib.pyplot as plt\n",
    "\n",
    "# Next, for jupyter notebooks, we have to use an \"iPython Magic function\" (indicated with the %) to make the matplotlib imageres appear in the notebook so that we can see them.\n",
    "# Note that this function is specific to the jupyter notebook and only needs to be executed once per notebook\n",
    "%matplotlib inline"
   ]
  },
  {
   "cell_type": "markdown",
   "metadata": {},
   "source": [
    "Create some data using the [np.linspace() function](https://numpy.org/doc/stable/reference/generated/numpy.linspace.html)."
   ]
  },
  {
   "cell_type": "code",
   "execution_count": 15,
   "metadata": {},
   "outputs": [],
   "source": [
    "x = np.linspace(0,10,100)\n",
    "\n",
    "# make y some function of x\n",
    "y = x**2"
   ]
  },
  {
   "cell_type": "code",
   "execution_count": 2,
   "metadata": {},
   "outputs": [
    {
     "ename": "NameError",
     "evalue": "name 'plt' is not defined",
     "output_type": "error",
     "traceback": [
      "\u001b[0;31m---------------------------------------------------------------------------\u001b[0m",
      "\u001b[0;31mNameError\u001b[0m                                 Traceback (most recent call last)",
      "\u001b[0;32m<ipython-input-2-d1c15db9339c>\u001b[0m in \u001b[0;36m<module>\u001b[0;34m\u001b[0m\n\u001b[1;32m      1\u001b[0m \u001b[0;31m# Create a new figure\u001b[0m\u001b[0;34m\u001b[0m\u001b[0;34m\u001b[0m\u001b[0;34m\u001b[0m\u001b[0m\n\u001b[0;32m----> 2\u001b[0;31m \u001b[0mplt\u001b[0m\u001b[0;34m.\u001b[0m\u001b[0mfigure\u001b[0m\u001b[0;34m(\u001b[0m\u001b[0;34m)\u001b[0m\u001b[0;34m\u001b[0m\u001b[0;34m\u001b[0m\u001b[0m\n\u001b[0m\u001b[1;32m      3\u001b[0m \u001b[0;34m\u001b[0m\u001b[0m\n\u001b[1;32m      4\u001b[0m \u001b[0;31m# Plot x and y in the color red. Try changing the color. Use the documentation to see which colors you can use.\u001b[0m\u001b[0;34m\u001b[0m\u001b[0;34m\u001b[0m\u001b[0;34m\u001b[0m\u001b[0m\n\u001b[1;32m      5\u001b[0m \u001b[0mplt\u001b[0m\u001b[0;34m.\u001b[0m\u001b[0mplot\u001b[0m\u001b[0;34m(\u001b[0m\u001b[0mx\u001b[0m\u001b[0;34m,\u001b[0m \u001b[0my\u001b[0m\u001b[0;34m,\u001b[0m \u001b[0;34m'red'\u001b[0m\u001b[0;34m)\u001b[0m\u001b[0;34m\u001b[0m\u001b[0;34m\u001b[0m\u001b[0m\n",
      "\u001b[0;31mNameError\u001b[0m: name 'plt' is not defined"
     ]
    }
   ],
   "source": [
    "# Create a new figure\n",
    "plt.figure()\n",
    "\n",
    "# Plot x and y in the color red. Try changing the color. Use the documentation to see which colors you can use.\n",
    "plt.plot(x, y, 'red')\n",
    "\n",
    "# Label the axes and title\n",
    "plt.xlabel('x value')\n",
    "plt.ylabel('y value')\n",
    "plt.title('My First Plot')"
   ]
  },
  {
   "cell_type": "markdown",
   "metadata": {},
   "source": [
    "---\n",
    "## Plotting real data"
   ]
  },
  {
   "cell_type": "markdown",
   "metadata": {},
   "source": [
    "Now, we will plot data in Python using a real-world dataset.\n",
    "Start by importing some other libraries we'll need.\n",
    "\n",
    "We will use the [pandas](https://pandas.pydata.org/) library a lot in this class. It is another core library of the \"scientific python ecosystem\"."
   ]
  },
  {
   "cell_type": "code",
   "execution_count": 17,
   "metadata": {},
   "outputs": [],
   "source": [
    "# import pandas, which will let us read in .xlsx (Excel) files as \"data frames\"\n",
    "import pandas as pd\n",
    "\n",
    "# We want to import a normal gaussian curve function from the scipy.stats library\n",
    "# Since we don't need the entire scipy.stats library, we add \"import norm\" to only import this norm function and not the whole library\n",
    "from scipy.stats import norm"
   ]
  },
  {
   "cell_type": "markdown",
   "metadata": {},
   "source": [
    "Next, open the data file. We can do this using the pandas [read_excel function](https://pandas.pydata.org/pandas-docs/stable/reference/api/pandas.read_excel.html)."
   ]
  },
  {
   "cell_type": "code",
   "execution_count": 18,
   "metadata": {},
   "outputs": [],
   "source": [
    "# Define the filepath and filename of the file with our data\n",
    "Skykomish_data_file = 'Skykomish_peak_flow_12134500_skykomish_river_near_gold_bar.xlsx'\n",
    "\n",
    "# Use pandas.read_excel() function to open this file.\n",
    "# This stores the data in a \"Data Frame\" and we can use it to plot the data later.\n",
    "Skykomish_data = pd.read_excel(Skykomish_data_file)"
   ]
  },
  {
   "cell_type": "markdown",
   "metadata": {},
   "source": [
    "We can preview the first few rows of data with the `.head()` method"
   ]
  },
  {
   "cell_type": "code",
   "execution_count": 19,
   "metadata": {},
   "outputs": [
    {
     "data": {
      "text/html": [
       "<div>\n",
       "<style scoped>\n",
       "    .dataframe tbody tr th:only-of-type {\n",
       "        vertical-align: middle;\n",
       "    }\n",
       "\n",
       "    .dataframe tbody tr th {\n",
       "        vertical-align: top;\n",
       "    }\n",
       "\n",
       "    .dataframe thead th {\n",
       "        text-align: right;\n",
       "    }\n",
       "</style>\n",
       "<table border=\"1\" class=\"dataframe\">\n",
       "  <thead>\n",
       "    <tr style=\"text-align: right;\">\n",
       "      <th></th>\n",
       "      <th>date of peak</th>\n",
       "      <th>water year</th>\n",
       "      <th>peak value (cfs)</th>\n",
       "      <th>gage_ht (feet)</th>\n",
       "    </tr>\n",
       "  </thead>\n",
       "  <tbody>\n",
       "    <tr>\n",
       "      <th>0</th>\n",
       "      <td>1928-10-09</td>\n",
       "      <td>1929</td>\n",
       "      <td>18800</td>\n",
       "      <td>10.55</td>\n",
       "    </tr>\n",
       "    <tr>\n",
       "      <th>1</th>\n",
       "      <td>1930-02-05</td>\n",
       "      <td>1930</td>\n",
       "      <td>15800</td>\n",
       "      <td>10.44</td>\n",
       "    </tr>\n",
       "    <tr>\n",
       "      <th>2</th>\n",
       "      <td>1931-01-28</td>\n",
       "      <td>1931</td>\n",
       "      <td>35100</td>\n",
       "      <td>14.08</td>\n",
       "    </tr>\n",
       "    <tr>\n",
       "      <th>3</th>\n",
       "      <td>1932-02-26</td>\n",
       "      <td>1932</td>\n",
       "      <td>83300</td>\n",
       "      <td>20.70</td>\n",
       "    </tr>\n",
       "    <tr>\n",
       "      <th>4</th>\n",
       "      <td>1932-11-13</td>\n",
       "      <td>1933</td>\n",
       "      <td>72500</td>\n",
       "      <td>19.50</td>\n",
       "    </tr>\n",
       "  </tbody>\n",
       "</table>\n",
       "</div>"
      ],
      "text/plain": [
       "  date of peak  water year  peak value (cfs)  gage_ht (feet)\n",
       "0   1928-10-09        1929             18800           10.55\n",
       "1   1930-02-05        1930             15800           10.44\n",
       "2   1931-01-28        1931             35100           14.08\n",
       "3   1932-02-26        1932             83300           20.70\n",
       "4   1932-11-13        1933             72500           19.50"
      ]
     },
     "execution_count": 19,
     "metadata": {},
     "output_type": "execute_result"
    }
   ],
   "source": [
    "# Now we can see the dataset we loaded:\n",
    "Skykomish_data.head()"
   ]
  },
  {
   "cell_type": "markdown",
   "metadata": {},
   "source": [
    "We can access a column of this data frame by using the header name within brackets as follows:"
   ]
  },
  {
   "cell_type": "code",
   "execution_count": 20,
   "metadata": {},
   "outputs": [
    {
     "data": {
      "text/plain": [
       "0      18800\n",
       "1      15800\n",
       "2      35100\n",
       "3      83300\n",
       "4      72500\n",
       "       ...  \n",
       "76     74600\n",
       "77     33800\n",
       "78    129000\n",
       "79     51100\n",
       "80     74000\n",
       "Name: peak value (cfs), Length: 81, dtype: int64"
      ]
     },
     "execution_count": 20,
     "metadata": {},
     "output_type": "execute_result"
    }
   ],
   "source": [
    "# look at the column named 'peak value (cfs)'\n",
    "Skykomish_data['peak value (cfs)']"
   ]
  },
  {
   "cell_type": "markdown",
   "metadata": {},
   "source": [
    "### Plot Timeseries\n",
    "Next, create a timeseries of the data using the arrays created above and the matplotlib module."
   ]
  },
  {
   "cell_type": "code",
   "execution_count": 21,
   "metadata": {},
   "outputs": [
    {
     "data": {
      "text/plain": [
       "[<matplotlib.lines.Line2D at 0x7f433bb4e810>]"
      ]
     },
     "execution_count": 21,
     "metadata": {},
     "output_type": "execute_result"
    },
    {
     "data": {
      "image/png": "[encoded data removed]",
      "text/plain": [
       "<Figure size 432x288 with 1 Axes>"
      ]
     },
     "metadata": {
      "needs_background": "light"
     },
     "output_type": "display_data"
    }
   ],
   "source": [
    "# Create a new figure.\n",
    "plt.figure()\n",
    "\n",
    "# Use the plot() function to plot the year on the x-axis, peak flow values on\n",
    "# the y-axis with an open circle representing each peak flow value.\n",
    "plt.plot(Skykomish_data['water year'], # our x value\n",
    "         Skykomish_data['peak value (cfs)'] # our y value\n",
    "         )"
   ]
  },
  {
   "cell_type": "markdown",
   "metadata": {},
   "source": [
    "### This plot is missing labels, units, and a title!\n",
    "\n",
    "We can use some of matplotlib's features to improve our plot. **Always include axes labels, units, and a title!**"
   ]
  },
  {
   "cell_type": "code",
   "execution_count": 22,
   "metadata": {},
   "outputs": [
    {
     "data": {
      "image/png": "[encoded data removed]",
      "text/plain": [
       "<Figure size 720x288 with 1 Axes>"
      ]
     },
     "metadata": {
      "needs_background": "light"
     },
     "output_type": "display_data"
    }
   ],
   "source": [
    "# Create a new figure.\n",
    "plt.figure(figsize=(10,4))\n",
    "\n",
    "# Use the plot() function to plot the year on the x-axis, peak flow values on\n",
    "# the y-axis with an open circle representing each peak flow value.\n",
    "plt.plot(Skykomish_data['water year'], # our x value\n",
    "         Skykomish_data['peak value (cfs)'], # our y value\n",
    "         linestyle='-', # plot a solid line\n",
    "         color='blue', # make the line color blue\n",
    "         marker='o', # also plot a circle for each data point\n",
    "         markerfacecolor='white',  # make the circle face color white\n",
    "         markeredgecolor='blue') # make the circle edge color blue\n",
    "\n",
    "# Label the axes and title.\n",
    "plt.xlabel('Water Years')\n",
    "plt.ylabel('Peak Flows (cfs)')\n",
    "plt.title('(Fig. 1) Skykomish River Peak Flows');"
   ]
  },
  {
   "cell_type": "markdown",
   "metadata": {},
   "source": [
    "### Histogram\n",
    "Finally, let's plot a histogram of the peak flow values."
   ]
  },
  {
   "cell_type": "code",
   "execution_count": 23,
   "metadata": {},
   "outputs": [
    {
     "data": {
      "image/png": "[encoded data removed]",
      "text/plain": [
       "<Figure size 432x288 with 1 Axes>"
      ]
     },
     "metadata": {
      "needs_background": "light"
     },
     "output_type": "display_data"
    }
   ],
   "source": [
    "# Define the number of bins for the histogram. Try changing this number and running this cell again\n",
    "nbins = 20\n",
    "\n",
    "# Create a new figure.\n",
    "plt.figure()\n",
    "\n",
    "# Use the hist() function from matplotlib to plot the histogram\n",
    "plt.hist(Skykomish_data['peak value (cfs)'], nbins, ec=\"black\", facecolor='lightblue')\n",
    "\n",
    "# Labels and title\n",
    "plt.title('(Fig. 3) Skykomish River Peak Flow Histogram')\n",
    "plt.xlabel('Peak Flow (cfs)')\n",
    "plt.ylabel('Number of Occurences')\n",
    "plt.ticklabel_format(axis='x', style='sci', scilimits=(0,0)) # formatting the x axis to use scientific notation"
   ]
  },
  {
   "cell_type": "code",
   "execution_count": null,
   "metadata": {},
   "outputs": [],
   "source": []
  }
 ],
 "metadata": {
  "kernelspec": {
   "display_name": "Python 3",
   "language": "python",
   "name": "python3"
  },
  "language_info": {
   "codemirror_mode": {
    "name": "ipython",
    "version": 3
   },
   "file_extension": ".py",
   "mimetype": "text/x-python",
   "name": "python",
   "nbconvert_exporter": "python",
   "pygments_lexer": "ipython3",
   "version": "3.8.8"
  }
 },
 "nbformat": 4,
 "nbformat_minor": 4
}
